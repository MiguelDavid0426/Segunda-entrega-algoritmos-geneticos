{
  "nbformat": 4,
  "nbformat_minor": 0,
  "metadata": {
    "accelerator": "GPU",
    "colab": {
      "name": "Aplicación_AG_Sistemas_Inteligentes.ipynb",
      "provenance": [],
      "collapsed_sections": [],
      "include_colab_link": true
    },
    "kernelspec": {
      "display_name": "Python 3",
      "name": "python3"
    },
    "language_info": {
      "name": "python"
    }
  },
  "cells": [
    {
      "cell_type": "markdown",
      "metadata": {
        "id": "view-in-github",
        "colab_type": "text"
      },
      "source": [
        "<a href=\"https://colab.research.google.com/github/MiguelDavid0426/Segunda-entrega-algoritmos-geneticos/blob/main/Aplicaci%C3%B3n_AG_Sistemas_Inteligentes.ipynb\" target=\"_parent\"><img src=\"https://colab.research.google.com/assets/colab-badge.svg\" alt=\"Open In Colab\"/></a>"
      ]
    },
    {
      "cell_type": "code",
      "metadata": {
        "colab": {
          "base_uri": "https://localhost:8080/"
        },
        "id": "sF09vSMBVBhZ",
        "outputId": "af968a23-7ed6-40e2-b524-55ab671fd3a2"
      },
      "source": [
        "pip install pygad"
      ],
      "execution_count": 2,
      "outputs": [
        {
          "output_type": "stream",
          "name": "stdout",
          "text": [
            "Requirement already satisfied: pygad in /usr/local/lib/python3.7/dist-packages (2.16.1)\n",
            "Requirement already satisfied: numpy in /usr/local/lib/python3.7/dist-packages (from pygad) (1.19.5)\n",
            "Requirement already satisfied: matplotlib in /usr/local/lib/python3.7/dist-packages (from pygad) (3.2.2)\n",
            "Requirement already satisfied: python-dateutil>=2.1 in /usr/local/lib/python3.7/dist-packages (from matplotlib->pygad) (2.8.2)\n",
            "Requirement already satisfied: pyparsing!=2.0.4,!=2.1.2,!=2.1.6,>=2.0.1 in /usr/local/lib/python3.7/dist-packages (from matplotlib->pygad) (2.4.7)\n",
            "Requirement already satisfied: cycler>=0.10 in /usr/local/lib/python3.7/dist-packages (from matplotlib->pygad) (0.10.0)\n",
            "Requirement already satisfied: kiwisolver>=1.0.1 in /usr/local/lib/python3.7/dist-packages (from matplotlib->pygad) (1.3.2)\n",
            "Requirement already satisfied: six in /usr/local/lib/python3.7/dist-packages (from cycler>=0.10->matplotlib->pygad) (1.15.0)\n"
          ]
        }
      ]
    },
    {
      "cell_type": "code",
      "metadata": {
        "colab": {
          "base_uri": "https://localhost:8080/"
        },
        "id": "-FrHmUsQ-ox_",
        "outputId": "f38ccca8-cc0a-4b91-a0bf-ffe580654a95"
      },
      "source": [
        "pip install Keras-Applications"
      ],
      "execution_count": 3,
      "outputs": [
        {
          "output_type": "stream",
          "name": "stdout",
          "text": [
            "Collecting Keras-Applications\n",
            "  Downloading Keras_Applications-1.0.8-py3-none-any.whl (50 kB)\n",
            "\u001b[?25l\r\u001b[K     |██████▌                         | 10 kB 29.7 MB/s eta 0:00:01\r\u001b[K     |█████████████                   | 20 kB 9.6 MB/s eta 0:00:01\r\u001b[K     |███████████████████▍            | 30 kB 8.4 MB/s eta 0:00:01\r\u001b[K     |█████████████████████████▉      | 40 kB 8.0 MB/s eta 0:00:01\r\u001b[K     |████████████████████████████████| 50 kB 2.8 MB/s \n",
            "\u001b[?25hRequirement already satisfied: numpy>=1.9.1 in /usr/local/lib/python3.7/dist-packages (from Keras-Applications) (1.19.5)\n",
            "Requirement already satisfied: h5py in /usr/local/lib/python3.7/dist-packages (from Keras-Applications) (3.1.0)\n",
            "Requirement already satisfied: cached-property in /usr/local/lib/python3.7/dist-packages (from h5py->Keras-Applications) (1.5.2)\n",
            "Installing collected packages: Keras-Applications\n",
            "Successfully installed Keras-Applications-1.0.8\n"
          ]
        }
      ]
    },
    {
      "cell_type": "markdown",
      "metadata": {
        "id": "5991j3jD30vX"
      },
      "source": [
        "# Importación de librerias"
      ]
    },
    {
      "cell_type": "code",
      "metadata": {
        "id": "z6w69Zdlhexv"
      },
      "source": [
        "#Librerias\n",
        "import cv2\n",
        "from google.colab.patches import cv2_imshow\n",
        "import numpy as np # linear algebra\n",
        "import pandas as pd # data processing, CSV file I/O (e.g. pd.read_csv)\n",
        "import seaborn as sns\n",
        "import matplotlib.pyplot as plt\n",
        "import shutil\n",
        "from sklearn.model_selection import train_test_split\n",
        "\n",
        "#Otras librerias necesarias de keras\n",
        "\n",
        "from keras.layers.convolutional import Conv2D, MaxPooling2D\n",
        "from keras.models import Sequential\n",
        "from keras.layers import Dense, Activation, Flatten\n",
        "#from tensorflow.python.keras.applications import ResNet50\n",
        "#from tensorflow.python.keras.models import Sequential\n",
        "#from tensorflow.python.keras.layers import Dense\n",
        "\n",
        "# Librerias para algoritmos geneticos\n",
        "import tensorflow.keras\n",
        "import pygad.kerasga\n",
        "import pygad\n",
        "import tensorflow as tf"
      ],
      "execution_count": 5,
      "outputs": []
    },
    {
      "cell_type": "markdown",
      "metadata": {
        "id": "cnrYb7WaI7Qc"
      },
      "source": [
        "#Carga de los datos"
      ]
    },
    {
      "cell_type": "markdown",
      "metadata": {
        "id": "RKAvuUfgX7jn"
      },
      "source": [
        "**ACCESO A GOOGLE DRIVE para Cargar Data**"
      ]
    },
    {
      "cell_type": "code",
      "metadata": {
        "id": "_NDCoU3bYOIc",
        "colab": {
          "base_uri": "https://localhost:8080/"
        },
        "outputId": "94b96820-c15f-472a-bef3-5e3f0f877e3e"
      },
      "source": [
        "#Montar google drive\n",
        "from google.colab import drive\n",
        "drive.mount('/content/drive')\n",
        "\n",
        "% cd /content/drive/MyDrive/Colab Notebooks\n",
        "#Acá debemos cargar los archivos de imagenes y etiquetas en google drive\n",
        "\n",
        "#Cargar etiquetas\n",
        "lab=np.load('labels.npy')\n",
        "\n",
        "#Cargar imagenes\n",
        "img=np.load('Imagenes_gris_240.npy')\n"
      ],
      "execution_count": 52,
      "outputs": [
        {
          "output_type": "stream",
          "name": "stdout",
          "text": [
            "Drive already mounted at /content/drive; to attempt to forcibly remount, call drive.mount(\"/content/drive\", force_remount=True).\n",
            "/content/drive/MyDrive/Colab Notebooks\n"
          ]
        }
      ]
    },
    {
      "cell_type": "code",
      "metadata": {
        "colab": {
          "base_uri": "https://localhost:8080/"
        },
        "id": "7PUXUEFXim0O",
        "outputId": "c3761bb5-d1cc-4c27-b69a-addf06b51ce7"
      },
      "source": [
        "nombre_gpu = tf.test.gpu_device_name()\n",
        "if nombre_gpu != '/device:GPU:0':\n",
        "  raise SystemError(\"GPU no encontrada\")\n",
        "print('GPU encontrada: {}'.format(nombre_gpu))"
      ],
      "execution_count": 23,
      "outputs": [
        {
          "output_type": "stream",
          "name": "stdout",
          "text": [
            "GPU encontrada: /device:GPU:0\n"
          ]
        }
      ]
    },
    {
      "cell_type": "markdown",
      "metadata": {
        "id": "_ymRbQ2t37Cc"
      },
      "source": [
        "Aqui validamos la usabilidad del GPU en el entorno"
      ]
    },
    {
      "cell_type": "code",
      "metadata": {
        "colab": {
          "base_uri": "https://localhost:8080/"
        },
        "id": "l6lZ3TlMuvCT",
        "outputId": "cf45936e-4cfd-4c7b-8b80-88c9f3bfbeaa"
      },
      "source": [
        "img.shape"
      ],
      "execution_count": 24,
      "outputs": [
        {
          "output_type": "execute_result",
          "data": {
            "text/plain": [
              "(2000, 240, 240)"
            ]
          },
          "metadata": {},
          "execution_count": 24
        }
      ]
    },
    {
      "cell_type": "code",
      "metadata": {
        "colab": {
          "base_uri": "https://localhost:8080/"
        },
        "id": "fXAuC9eirsXP",
        "outputId": "028e054c-a512-4941-de80-06eaa9e4f997"
      },
      "source": [
        "lab.shape"
      ],
      "execution_count": 25,
      "outputs": [
        {
          "output_type": "execute_result",
          "data": {
            "text/plain": [
              "(2000, 1)"
            ]
          },
          "metadata": {},
          "execution_count": 25
        }
      ]
    },
    {
      "cell_type": "markdown",
      "metadata": {
        "id": "74gi_NkvI3ab"
      },
      "source": [
        "# Entendimiento de los datos"
      ]
    },
    {
      "cell_type": "code",
      "metadata": {
        "colab": {
          "base_uri": "https://localhost:8080/",
          "height": 281
        },
        "id": "8K0FpjhWI_kw",
        "outputId": "eb9700b5-de0f-4881-c73a-3766cf100491"
      },
      "source": [
        "label=pd.DataFrame(lab)\n",
        "label\n",
        "label.hist(bins=30);"
      ],
      "execution_count": 26,
      "outputs": [
        {
          "output_type": "display_data",
          "data": {
            "image/png": "[encoded data removed]",
            "text/plain": [
              "<Figure size 432x288 with 1 Axes>"
            ]
          },
          "metadata": {
            "needs_background": "light"
          }
        }
      ]
    },
    {
      "cell_type": "markdown",
      "metadata": {
        "id": "VtXyFztwJj8Q"
      },
      "source": [
        "Podemos ver que la distribución de los conteos de objetos tienen una similitud a una normal, a continuación vemos los parametros de esta"
      ]
    },
    {
      "cell_type": "code",
      "metadata": {
        "colab": {
          "base_uri": "https://localhost:8080/",
          "height": 297
        },
        "id": "rdfYuFQoJsoN",
        "outputId": "20bc5bfc-6cde-4a61-daf3-5de4667f3245"
      },
      "source": [
        "label.describe()"
      ],
      "execution_count": null,
      "outputs": [
        {
          "data": {
            "text/html": [
              "<div>\n",
              "<style scoped>\n",
              "    .dataframe tbody tr th:only-of-type {\n",
              "        vertical-align: middle;\n",
              "    }\n",
              "\n",
              "    .dataframe tbody tr th {\n",
              "        vertical-align: top;\n",
              "    }\n",
              "\n",
              "    .dataframe thead th {\n",
              "        text-align: right;\n",
              "    }\n",
              "</style>\n",
              "<table border=\"1\" class=\"dataframe\">\n",
              "  <thead>\n",
              "    <tr style=\"text-align: right;\">\n",
              "      <th></th>\n",
              "      <th>0</th>\n",
              "    </tr>\n",
              "  </thead>\n",
              "  <tbody>\n",
              "    <tr>\n",
              "      <th>count</th>\n",
              "      <td>2000.000000</td>\n",
              "    </tr>\n",
              "    <tr>\n",
              "      <th>mean</th>\n",
              "      <td>31.157500</td>\n",
              "    </tr>\n",
              "    <tr>\n",
              "      <th>std</th>\n",
              "      <td>6.945417</td>\n",
              "    </tr>\n",
              "    <tr>\n",
              "      <th>min</th>\n",
              "      <td>13.000000</td>\n",
              "    </tr>\n",
              "    <tr>\n",
              "      <th>25%</th>\n",
              "      <td>26.000000</td>\n",
              "    </tr>\n",
              "    <tr>\n",
              "      <th>50%</th>\n",
              "      <td>31.000000</td>\n",
              "    </tr>\n",
              "    <tr>\n",
              "      <th>75%</th>\n",
              "      <td>36.000000</td>\n",
              "    </tr>\n",
              "    <tr>\n",
              "      <th>max</th>\n",
              "      <td>53.000000</td>\n",
              "    </tr>\n",
              "  </tbody>\n",
              "</table>\n",
              "</div>"
            ],
            "text/plain": [
              "                 0\n",
              "count  2000.000000\n",
              "mean     31.157500\n",
              "std       6.945417\n",
              "min      13.000000\n",
              "25%      26.000000\n",
              "50%      31.000000\n",
              "75%      36.000000\n",
              "max      53.000000"
            ]
          },
          "execution_count": 9,
          "metadata": {},
          "output_type": "execute_result"
        }
      ]
    },
    {
      "cell_type": "markdown",
      "metadata": {
        "id": "_t1Zul9tJxKt"
      },
      "source": [
        "La media y la mediana son cercanas por lo que se puede esperar que los datos se distribuyan de manera normal con media de 30 personas por imagen."
      ]
    },
    {
      "cell_type": "markdown",
      "metadata": {
        "id": "TUobZH6O0yMe"
      },
      "source": [
        "**Ver una imagen**"
      ]
    },
    {
      "cell_type": "code",
      "metadata": {
        "colab": {
          "base_uri": "https://localhost:8080/",
          "height": 257
        },
        "id": "Esh3O7dHZXBK",
        "outputId": "6f2ef4c9-c7a0-4859-c6d3-6083f15c0814"
      },
      "source": [
        "img_gris = cv2.resize(img[1390], (240,240))\n",
        "cv2_imshow(img_gris)"
      ],
      "execution_count": null,
      "outputs": [
        {
          "data": {
            "image/png": "[encoded data removed]",
            "text/plain": [
              "<PIL.Image.Image image mode=L size=240x240 at 0x7F184BFDBE50>"
            ]
          },
          "metadata": {},
          "output_type": "display_data"
        }
      ]
    },
    {
      "cell_type": "markdown",
      "metadata": {
        "id": "L2l-3jhF4G3L"
      },
      "source": [
        "Realizamos una pequeña visualización del dataset"
      ]
    },
    {
      "cell_type": "markdown",
      "metadata": {
        "id": "apHACEgs4Ry5"
      },
      "source": [
        "# Procesamiento de los datos"
      ]
    },
    {
      "cell_type": "markdown",
      "metadata": {
        "id": "H9a8QE0Y4gjS"
      },
      "source": [
        "Se separa en validación y prueba"
      ]
    },
    {
      "cell_type": "code",
      "metadata": {
        "colab": {
          "base_uri": "https://localhost:8080/"
        },
        "id": "WPCreQKRcFjb",
        "outputId": "8cf0bc8f-7608-41d1-cd7e-c3f60a826f1e"
      },
      "source": [
        "x_train, x_test, y_train, y_test = train_test_split(img, lab, test_size=0.2)\n",
        "print(x_train.shape)\n",
        "print(x_test.shape)"
      ],
      "execution_count": 53,
      "outputs": [
        {
          "output_type": "stream",
          "name": "stdout",
          "text": [
            "(1600, 240, 240)\n",
            "(400, 240, 240)\n"
          ]
        }
      ]
    },
    {
      "cell_type": "markdown",
      "metadata": {
        "id": "5EfuAxaa4jwt"
      },
      "source": [
        "Se aumenta una dimensión del objeto matricial"
      ]
    },
    {
      "cell_type": "code",
      "metadata": {
        "colab": {
          "base_uri": "https://localhost:8080/"
        },
        "id": "u8NFlGAtfWyV",
        "outputId": "a485323c-eec3-499b-eb17-6f77e6a11724"
      },
      "source": [
        "train_X = x_train.reshape(-1, 240,240, 1)\n",
        "test_X = x_test.reshape(-1, 240,240, 1)\n",
        "train_X.shape, test_X.shape"
      ],
      "execution_count": 54,
      "outputs": [
        {
          "output_type": "execute_result",
          "data": {
            "text/plain": [
              "((1600, 240, 240, 1), (400, 240, 240, 1))"
            ]
          },
          "metadata": {},
          "execution_count": 54
        }
      ]
    },
    {
      "cell_type": "markdown",
      "metadata": {
        "id": "aDG0SyrY4nzx"
      },
      "source": [
        "Se normalizan los pixeles para poder mejorar el proceso de optimización"
      ]
    },
    {
      "cell_type": "code",
      "metadata": {
        "id": "hRJ54GLYf_Ir"
      },
      "source": [
        "train_X = train_X.astype('float32')\n",
        "test_X = test_X.astype('float32')\n",
        "train_X = train_X / 255.\n",
        "test_X = test_X / 255."
      ],
      "execution_count": 55,
      "outputs": []
    },
    {
      "cell_type": "markdown",
      "metadata": {
        "id": "4NII9fXH4vnE"
      },
      "source": [
        "# Contrucción del modelo"
      ]
    },
    {
      "cell_type": "markdown",
      "metadata": {
        "id": "Fr_7v9x_4yU-"
      },
      "source": [
        "Realizamos un primer acercamiento construyendo una primera red y aplicando un algoritmo genetico"
      ]
    },
    {
      "cell_type": "code",
      "metadata": {
        "id": "SX0gKditA12q"
      },
      "source": [
        "#### Prueba Dave 1\n",
        "def fitness_func(solution, sol_idx):\n",
        "    global data_inputs, data_outputs, keras_ga, model\n",
        "    model_weights_matrix = pygad.kerasga.model_weights_as_matrix(model=model,\n",
        "                                                                 weights_vector=solution)\n",
        "    model.set_weights(weights=model_weights_matrix)\n",
        "    predictions = model.predict(data_inputs)\n",
        "\n",
        "    mae = tensorflow.keras.losses.MeanAbsoluteError()\n",
        "    abs_error = mae(data_outputs, predictions).numpy() + 0.00000001\n",
        "    solution_fitness = 1.0 / abs_error\n",
        "\n",
        "    return solution_fitness"
      ],
      "execution_count": null,
      "outputs": []
    },
    {
      "cell_type": "code",
      "metadata": {
        "id": "UEOyncr7CJxP"
      },
      "source": [
        "#### Prueba Dave 1\n",
        "def callback_generation(ga_instance):\n",
        "    print(\"Generation = {generation}\".format(generation=ga_instance.generations_completed))\n",
        "    print(\"Fitness    = {fitness}\".format(fitness=ga_instance.best_solution()[1]))\n",
        "\n",
        "# Build the keras model using the functional API.\n",
        "input_layer = tensorflow.keras.layers.Input(shape=(240, 240, 1))\n",
        "conv_layer1 = tensorflow.keras.layers.Conv2D(filters=16,\n",
        "                                             kernel_size=3,\n",
        "                                             activation=\"relu\")(input_layer)\n",
        "max_pool1 = tensorflow.keras.layers.MaxPooling2D(pool_size=(2,2),\n",
        "                                                 strides=3)(conv_layer1)\n",
        "conv_layer2 = tensorflow.keras.layers.Conv2D(filters=32,\n",
        "                                             kernel_size=3,\n",
        "                                             activation=\"relu\")(max_pool1)\n",
        "flatten_layer  = tensorflow.keras.layers.Flatten()(conv_layer2)\n",
        "dense_layer = tensorflow.keras.layers.Dense(32, activation=\"relu\")(flatten_layer)\n",
        "output_layer = tensorflow.keras.layers.Dense(1, activation=\"linear\")(dense_layer)\n",
        "\n",
        "model = tensorflow.keras.Model(inputs=input_layer, outputs=output_layer)\n",
        "\n",
        "keras_ga = pygad.kerasga.KerasGA(model=model,\n",
        "                                 num_solutions=10)\n"
      ],
      "execution_count": null,
      "outputs": []
    },
    {
      "cell_type": "code",
      "metadata": {
        "colab": {
          "background_save": true,
          "base_uri": "https://localhost:8080/"
        },
        "id": "Zakb82lVFeZs",
        "outputId": "f53909b7-b694-4dbe-a585-6e6e9c0b3c17"
      },
      "source": [
        "#### Prueba Dave 1\n",
        "# Data inputs\n",
        "data_inputs = x_train\n",
        "\n",
        "# Data outputs\n",
        "data_outputs = y_train\n",
        "\n",
        "num_generations = 250\n",
        "num_parents_mating = 10\n",
        "initial_population = keras_ga.population_weights\n",
        "\n",
        "ga_instance = pygad.GA(num_generations=num_generations, \n",
        "                       num_parents_mating=num_parents_mating, \n",
        "                       initial_population=initial_population,\n",
        "                       fitness_func=fitness_func,\n",
        "                       on_generation=callback_generation)\n",
        "\n",
        "ga_instance.run()\n",
        "\n",
        "ga_instance.plot_result(title=\"PyGAD & Keras - Iteration vs. Fitness\", linewidth=4)\n",
        "\n",
        "# Returning the details of the best solution.\n",
        "solution, solution_fitness, solution_idx = ga_instance.best_solution()\n",
        "print(\"Fitness value of the best solution = {solution_fitness}\".format(solution_fitness=solution_fitness))\n",
        "print(\"Index of the best solution : {solution_idx}\".format(solution_idx=solution_idx))\n",
        "\n",
        "# Fetch the parameters of the best solution.\n",
        "best_solution_weights = pygad.kerasga.model_weights_as_matrix(model=model,\n",
        "                                                              weights_vector=solution)\n",
        "model.set_weights(best_solution_weights)\n",
        "predictions = model.predict(data_inputs)\n",
        "# print(\"Predictions : \\n\", predictions)\n",
        "\n",
        "# Calculate the categorical crossentropy for the trained model.\n",
        "mae = tensorflow.keras.losses.MeanAbsoluteError()\n",
        "abs_error = mae(data_outputs, predictions).numpy()\n",
        "print(\"Absolute Error : \", abs_error)"
      ],
      "execution_count": null,
      "outputs": [
        {
          "name": "stdout",
          "output_type": "stream",
          "text": [
            "Generation = 1\n",
            "Fitness    = 0.10870885005881412\n",
            "Generation = 2\n",
            "Fitness    = 0.10870885005881412\n",
            "Generation = 3\n",
            "Fitness    = 0.10870885005881412\n",
            "Generation = 4\n",
            "Fitness    = 0.10870885005881412\n",
            "Generation = 5\n",
            "Fitness    = 0.10870885005881412\n",
            "Generation = 6\n",
            "Fitness    = 0.10870885005881412\n",
            "Generation = 7\n",
            "Fitness    = 0.10870885005881412\n",
            "Generation = 8\n",
            "Fitness    = 0.10870885005881412\n",
            "Generation = 9\n",
            "Fitness    = 0.10870885005881412\n",
            "Generation = 10\n",
            "Fitness    = 0.10870885005881412\n",
            "Generation = 11\n",
            "Fitness    = 0.10870885005881412\n",
            "Generation = 12\n",
            "Fitness    = 0.10870885005881412\n",
            "Generation = 13\n",
            "Fitness    = 0.10870885005881412\n",
            "Generation = 14\n",
            "Fitness    = 0.10870885005881412\n",
            "Generation = 15\n",
            "Fitness    = 0.10870885005881412\n",
            "Generation = 16\n",
            "Fitness    = 0.10870885005881412\n",
            "Generation = 17\n",
            "Fitness    = 0.10870885005881412\n",
            "Generation = 18\n",
            "Fitness    = 0.10870885005881412\n",
            "Generation = 19\n",
            "Fitness    = 0.10870885005881412\n",
            "Generation = 20\n",
            "Fitness    = 0.10870885005881412\n",
            "Generation = 21\n",
            "Fitness    = 0.10870885005881412\n",
            "Generation = 22\n",
            "Fitness    = 0.10870885005881412\n",
            "Generation = 23\n",
            "Fitness    = 0.10870885005881412\n",
            "Generation = 24\n",
            "Fitness    = 0.10870885005881412\n",
            "Generation = 25\n",
            "Fitness    = 0.10870885005881412\n",
            "Generation = 26\n",
            "Fitness    = 0.10870885005881412\n",
            "Generation = 27\n",
            "Fitness    = 0.10870885005881412\n",
            "Generation = 28\n",
            "Fitness    = 0.10870885005881412\n",
            "Generation = 29\n",
            "Fitness    = 0.10870885005881412\n",
            "Generation = 30\n",
            "Fitness    = 0.10870885005881412\n",
            "Generation = 31\n",
            "Fitness    = 0.10870885005881412\n",
            "Generation = 32\n",
            "Fitness    = 0.10870885005881412\n",
            "Generation = 33\n",
            "Fitness    = 0.10870885005881412\n",
            "Generation = 34\n",
            "Fitness    = 0.10870885005881412\n",
            "Generation = 35\n",
            "Fitness    = 0.10870885005881412\n",
            "Generation = 36\n",
            "Fitness    = 0.10870885005881412\n",
            "Generation = 37\n",
            "Fitness    = 0.10870885005881412\n",
            "Generation = 38\n",
            "Fitness    = 0.10870885005881412\n",
            "Generation = 39\n",
            "Fitness    = 0.10870885005881412\n",
            "Generation = 40\n",
            "Fitness    = 0.10870885005881412\n",
            "Generation = 41\n",
            "Fitness    = 0.10870885005881412\n",
            "Generation = 42\n",
            "Fitness    = 0.10870885005881412\n",
            "Generation = 43\n",
            "Fitness    = 0.10870885005881412\n",
            "Generation = 44\n",
            "Fitness    = 0.10870885005881412\n",
            "Generation = 45\n",
            "Fitness    = 0.10870885005881412\n",
            "Generation = 46\n",
            "Fitness    = 0.10870885005881412\n",
            "Generation = 47\n",
            "Fitness    = 0.10870885005881412\n",
            "Generation = 48\n",
            "Fitness    = 0.10870885005881412\n",
            "Generation = 49\n",
            "Fitness    = 0.10870885005881412\n",
            "Generation = 50\n",
            "Fitness    = 0.10870885005881412\n",
            "Generation = 51\n",
            "Fitness    = 0.10870885005881412\n",
            "Generation = 52\n",
            "Fitness    = 0.10870885005881412\n",
            "Generation = 53\n",
            "Fitness    = 0.10870885005881412\n",
            "Generation = 54\n",
            "Fitness    = 0.10870885005881412\n",
            "Generation = 55\n",
            "Fitness    = 0.10870885005881412\n",
            "Generation = 56\n",
            "Fitness    = 0.10870885005881412\n",
            "Generation = 57\n",
            "Fitness    = 0.10870885005881412\n",
            "Generation = 58\n",
            "Fitness    = 0.10870885005881412\n",
            "Generation = 59\n",
            "Fitness    = 0.10870885005881412\n",
            "Generation = 60\n",
            "Fitness    = 0.10870885005881412\n",
            "Generation = 61\n",
            "Fitness    = 0.10870885005881412\n",
            "Generation = 62\n",
            "Fitness    = 0.10870885005881412\n",
            "Generation = 63\n",
            "Fitness    = 0.10870885005881412\n",
            "Generation = 64\n",
            "Fitness    = 0.10870885005881412\n",
            "Generation = 65\n",
            "Fitness    = 0.10870885005881412\n",
            "Generation = 66\n",
            "Fitness    = 0.10870885005881412\n",
            "Generation = 67\n",
            "Fitness    = 0.10870885005881412\n",
            "Generation = 68\n",
            "Fitness    = 0.10870885005881412\n",
            "Generation = 69\n",
            "Fitness    = 0.10870885005881412\n",
            "Generation = 70\n",
            "Fitness    = 0.10870885005881412\n",
            "Generation = 71\n",
            "Fitness    = 0.10870885005881412\n",
            "Generation = 72\n",
            "Fitness    = 0.10870885005881412\n",
            "Generation = 73\n",
            "Fitness    = 0.10870885005881412\n",
            "Generation = 74\n",
            "Fitness    = 0.10870885005881412\n",
            "Generation = 75\n",
            "Fitness    = 0.10870885005881412\n",
            "Generation = 76\n",
            "Fitness    = 0.10870885005881412\n",
            "Generation = 77\n",
            "Fitness    = 0.10870885005881412\n",
            "Generation = 78\n",
            "Fitness    = 0.10870885005881412\n",
            "Generation = 79\n",
            "Fitness    = 0.10870885005881412\n",
            "Generation = 80\n",
            "Fitness    = 0.10870885005881412\n",
            "Generation = 81\n",
            "Fitness    = 0.10870885005881412\n",
            "Generation = 82\n",
            "Fitness    = 0.10870885005881412\n",
            "Generation = 83\n",
            "Fitness    = 0.10870885005881412\n",
            "Generation = 84\n",
            "Fitness    = 0.10870885005881412\n",
            "Generation = 85\n",
            "Fitness    = 0.10870885005881412\n",
            "Generation = 86\n",
            "Fitness    = 0.10870885005881412\n",
            "Generation = 87\n",
            "Fitness    = 0.10870885005881412\n",
            "Generation = 88\n",
            "Fitness    = 0.10870885005881412\n",
            "Generation = 89\n",
            "Fitness    = 0.10870885005881412\n",
            "Generation = 90\n",
            "Fitness    = 0.10870885005881412\n",
            "Generation = 91\n",
            "Fitness    = 0.10870885005881412\n",
            "Generation = 92\n",
            "Fitness    = 0.10870885005881412\n",
            "Generation = 93\n",
            "Fitness    = 0.10870885005881412\n",
            "Generation = 94\n",
            "Fitness    = 0.10870885005881412\n",
            "Generation = 95\n",
            "Fitness    = 0.10870885005881412\n",
            "Generation = 96\n",
            "Fitness    = 0.10870885005881412\n",
            "Generation = 97\n",
            "Fitness    = 0.10870885005881412\n",
            "Generation = 98\n",
            "Fitness    = 0.10870885005881412\n",
            "Generation = 99\n",
            "Fitness    = 0.10870885005881412\n",
            "Generation = 100\n",
            "Fitness    = 0.10870885005881412\n",
            "Generation = 101\n",
            "Fitness    = 0.10870885005881412\n",
            "Generation = 102\n",
            "Fitness    = 0.10870885005881412\n",
            "Generation = 103\n",
            "Fitness    = 0.10870885005881412\n",
            "Generation = 104\n",
            "Fitness    = 0.10870885005881412\n",
            "Generation = 105\n",
            "Fitness    = 0.10870885005881412\n",
            "Generation = 106\n",
            "Fitness    = 0.10870885005881412\n",
            "Generation = 107\n",
            "Fitness    = 0.10870885005881412\n",
            "Generation = 108\n",
            "Fitness    = 0.10870885005881412\n",
            "Generation = 109\n",
            "Fitness    = 0.10870885005881412\n",
            "Generation = 110\n",
            "Fitness    = 0.10870885005881412\n",
            "Generation = 111\n",
            "Fitness    = 0.10870885005881412\n",
            "Generation = 112\n",
            "Fitness    = 0.10870885005881412\n",
            "Generation = 113\n",
            "Fitness    = 0.10870885005881412\n",
            "Generation = 114\n",
            "Fitness    = 0.10870885005881412\n",
            "Generation = 115\n",
            "Fitness    = 0.10870885005881412\n",
            "Generation = 116\n",
            "Fitness    = 0.10870885005881412\n",
            "Generation = 117\n",
            "Fitness    = 0.10870885005881412\n",
            "Generation = 118\n",
            "Fitness    = 0.10870885005881412\n",
            "Generation = 119\n",
            "Fitness    = 0.10870885005881412\n",
            "Generation = 120\n",
            "Fitness    = 0.10870885005881412\n",
            "Generation = 121\n",
            "Fitness    = 0.10870885005881412\n",
            "Generation = 122\n",
            "Fitness    = 0.10870885005881412\n",
            "Generation = 123\n",
            "Fitness    = 0.10870885005881412\n",
            "Generation = 124\n",
            "Fitness    = 0.10870885005881412\n",
            "Generation = 125\n",
            "Fitness    = 0.10870885005881412\n",
            "Generation = 126\n",
            "Fitness    = 0.10870885005881412\n",
            "Generation = 127\n",
            "Fitness    = 0.10870885005881412\n",
            "Generation = 128\n",
            "Fitness    = 0.10870885005881412\n",
            "Generation = 129\n",
            "Fitness    = 0.10870885005881412\n",
            "Generation = 130\n",
            "Fitness    = 0.10870885005881412\n",
            "Generation = 131\n",
            "Fitness    = 0.10870885005881412\n",
            "Generation = 132\n",
            "Fitness    = 0.10870885005881412\n",
            "Generation = 133\n",
            "Fitness    = 0.10870885005881412\n",
            "Generation = 134\n",
            "Fitness    = 0.10870885005881412\n",
            "Generation = 135\n",
            "Fitness    = 0.10870885005881412\n",
            "Generation = 136\n",
            "Fitness    = 0.10870885005881412\n",
            "Generation = 137\n",
            "Fitness    = 0.10870885005881412\n",
            "Generation = 138\n",
            "Fitness    = 0.10870885005881412\n",
            "Generation = 139\n",
            "Fitness    = 0.10870885005881412\n",
            "Generation = 140\n",
            "Fitness    = 0.10870885005881412\n",
            "Generation = 141\n",
            "Fitness    = 0.10870885005881412\n",
            "Generation = 142\n",
            "Fitness    = 0.10870885005881412\n",
            "Generation = 143\n",
            "Fitness    = 0.10870885005881412\n",
            "Generation = 144\n",
            "Fitness    = 0.10870885005881412\n",
            "Generation = 145\n",
            "Fitness    = 0.10870885005881412\n",
            "Generation = 146\n",
            "Fitness    = 0.10870885005881412\n",
            "Generation = 147\n",
            "Fitness    = 0.10870885005881412\n",
            "Generation = 148\n",
            "Fitness    = 0.10870885005881412\n",
            "Generation = 149\n",
            "Fitness    = 0.10870885005881412\n",
            "Generation = 150\n",
            "Fitness    = 0.10870885005881412\n",
            "Generation = 151\n",
            "Fitness    = 0.10870885005881412\n",
            "Generation = 152\n",
            "Fitness    = 0.10870885005881412\n",
            "Generation = 153\n",
            "Fitness    = 0.10870885005881412\n",
            "Generation = 154\n",
            "Fitness    = 0.10870885005881412\n",
            "Generation = 155\n",
            "Fitness    = 0.10870885005881412\n",
            "Generation = 156\n",
            "Fitness    = 0.10870885005881412\n",
            "Generation = 157\n",
            "Fitness    = 0.10870885005881412\n",
            "Generation = 158\n",
            "Fitness    = 0.10870885005881412\n",
            "Generation = 159\n",
            "Fitness    = 0.10870885005881412\n",
            "Generation = 160\n",
            "Fitness    = 0.10870885005881412\n",
            "Generation = 161\n",
            "Fitness    = 0.10870885005881412\n",
            "Generation = 162\n",
            "Fitness    = 0.10870885005881412\n",
            "Generation = 163\n",
            "Fitness    = 0.10870885005881412\n",
            "Generation = 164\n",
            "Fitness    = 0.10870885005881412\n",
            "Generation = 165\n",
            "Fitness    = 0.10870885005881412\n",
            "Generation = 166\n",
            "Fitness    = 0.10870885005881412\n",
            "Generation = 167\n",
            "Fitness    = 0.10870885005881412\n",
            "Generation = 168\n",
            "Fitness    = 0.10870885005881412\n",
            "Generation = 169\n",
            "Fitness    = 0.10870885005881412\n",
            "Generation = 170\n",
            "Fitness    = 0.10870885005881412\n",
            "Generation = 171\n",
            "Fitness    = 0.10870885005881412\n",
            "Generation = 172\n",
            "Fitness    = 0.10870885005881412\n",
            "Generation = 173\n",
            "Fitness    = 0.10870885005881412\n",
            "Generation = 174\n",
            "Fitness    = 0.10870885005881412\n",
            "Generation = 175\n",
            "Fitness    = 0.10870885005881412\n",
            "Generation = 176\n",
            "Fitness    = 0.10870885005881412\n",
            "Generation = 177\n",
            "Fitness    = 0.10870885005881412\n",
            "Generation = 178\n",
            "Fitness    = 0.10870885005881412\n",
            "Generation = 179\n",
            "Fitness    = 0.10870885005881412\n",
            "Generation = 180\n",
            "Fitness    = 0.10870885005881412\n",
            "Generation = 181\n",
            "Fitness    = 0.10870885005881412\n",
            "Generation = 182\n",
            "Fitness    = 0.10870885005881412\n",
            "Generation = 183\n",
            "Fitness    = 0.10870885005881412\n",
            "Generation = 184\n",
            "Fitness    = 0.10870885005881412\n",
            "Generation = 185\n",
            "Fitness    = 0.10870885005881412\n",
            "Generation = 186\n",
            "Fitness    = 0.10870885005881412\n",
            "Generation = 187\n",
            "Fitness    = 0.10870885005881412\n",
            "Generation = 188\n",
            "Fitness    = 0.10870885005881412\n",
            "Generation = 189\n",
            "Fitness    = 0.10870885005881412\n",
            "Generation = 190\n",
            "Fitness    = 0.10870885005881412\n",
            "Generation = 191\n",
            "Fitness    = 0.10870885005881412\n",
            "Generation = 192\n",
            "Fitness    = 0.10870885005881412\n",
            "Generation = 193\n",
            "Fitness    = 0.10870885005881412\n",
            "Generation = 194\n",
            "Fitness    = 0.10870885005881412\n",
            "Generation = 195\n",
            "Fitness    = 0.10870885005881412\n",
            "Generation = 196\n",
            "Fitness    = 0.10870885005881412\n",
            "Generation = 197\n",
            "Fitness    = 0.10870885005881412\n",
            "Generation = 198\n",
            "Fitness    = 0.10870885005881412\n",
            "Generation = 199\n",
            "Fitness    = 0.10870885005881412\n",
            "Generation = 200\n",
            "Fitness    = 0.10870885005881412\n",
            "Generation = 201\n",
            "Fitness    = 0.10870885005881412\n",
            "Generation = 202\n",
            "Fitness    = 0.10870885005881412\n",
            "Generation = 203\n",
            "Fitness    = 0.10870885005881412\n",
            "Generation = 204\n",
            "Fitness    = 0.10870885005881412\n",
            "Generation = 205\n",
            "Fitness    = 0.10870885005881412\n",
            "Generation = 206\n",
            "Fitness    = 0.10870885005881412\n",
            "Generation = 207\n",
            "Fitness    = 0.10870885005881412\n",
            "Generation = 208\n",
            "Fitness    = 0.10870885005881412\n",
            "Generation = 209\n",
            "Fitness    = 0.10870885005881412\n",
            "Generation = 210\n",
            "Fitness    = 0.10870885005881412\n",
            "Generation = 211\n",
            "Fitness    = 0.10870885005881412\n",
            "Generation = 212\n",
            "Fitness    = 0.10870885005881412\n",
            "Generation = 213\n",
            "Fitness    = 0.10870885005881412\n",
            "Generation = 214\n",
            "Fitness    = 0.10870885005881412\n",
            "Generation = 215\n",
            "Fitness    = 0.10870885005881412\n",
            "Generation = 216\n",
            "Fitness    = 0.10870885005881412\n",
            "Generation = 217\n",
            "Fitness    = 0.10870885005881412\n",
            "Generation = 218\n",
            "Fitness    = 0.10870885005881412\n",
            "Generation = 219\n",
            "Fitness    = 0.10870885005881412\n",
            "Generation = 220\n",
            "Fitness    = 0.10870885005881412\n",
            "Generation = 221\n",
            "Fitness    = 0.10870885005881412\n",
            "Generation = 222\n",
            "Fitness    = 0.10870885005881412\n",
            "Generation = 223\n",
            "Fitness    = 0.10870885005881412\n",
            "Generation = 224\n",
            "Fitness    = 0.10870885005881412\n",
            "Generation = 225\n",
            "Fitness    = 0.10870885005881412\n",
            "Generation = 226\n",
            "Fitness    = 0.10870885005881412\n",
            "Generation = 227\n",
            "Fitness    = 0.10870885005881412\n",
            "Generation = 228\n",
            "Fitness    = 0.10870885005881412\n",
            "Generation = 229\n",
            "Fitness    = 0.10870885005881412\n",
            "Generation = 230\n",
            "Fitness    = 0.10870885005881412\n",
            "Generation = 231\n",
            "Fitness    = 0.10870885005881412\n",
            "Generation = 232\n",
            "Fitness    = 0.10870885005881412\n",
            "Generation = 233\n",
            "Fitness    = 0.10870885005881412\n",
            "Generation = 234\n",
            "Fitness    = 0.10870885005881412\n",
            "Generation = 235\n",
            "Fitness    = 0.10870885005881412\n",
            "Generation = 236\n",
            "Fitness    = 0.10870885005881412\n",
            "Generation = 237\n",
            "Fitness    = 0.10870885005881412\n",
            "Generation = 238\n",
            "Fitness    = 0.10870885005881412\n",
            "Generation = 239\n",
            "Fitness    = 0.10870885005881412\n",
            "Generation = 240\n",
            "Fitness    = 0.10870885005881412\n",
            "Generation = 241\n",
            "Fitness    = 0.10870885005881412\n",
            "Generation = 242\n",
            "Fitness    = 0.10870885005881412\n",
            "Generation = 243\n",
            "Fitness    = 0.10870885005881412\n",
            "Generation = 244\n",
            "Fitness    = 0.10870885005881412\n",
            "Generation = 245\n",
            "Fitness    = 0.10870885005881412\n",
            "Generation = 246\n",
            "Fitness    = 0.10870885005881412\n",
            "Generation = 247\n",
            "Fitness    = 0.10870885005881412\n",
            "Generation = 248\n",
            "Fitness    = 0.10870885005881412\n",
            "Generation = 249\n",
            "Fitness    = 0.10870885005881412\n",
            "Generation = 250\n",
            "Fitness    = 0.10870885005881412\n"
          ]
        },
        {
          "name": "stderr",
          "output_type": "stream",
          "text": [
            "/usr/local/lib/python3.7/dist-packages/pygad/pygad.py:3135: UserWarning: Please use the plot_fitness() method instead of plot_result(). The plot_result() method will be removed in the future.\n",
            "  warnings.warn(\"Please use the plot_fitness() method instead of plot_result(). The plot_result() method will be removed in the future.\")\n"
          ]
        },
        {
          "data": {
            "image/png": "[encoded data removed]",
            "text/plain": [
              "<Figure size 432x288 with 1 Axes>"
            ]
          },
          "metadata": {},
          "output_type": "display_data"
        },
        {
          "name": "stdout",
          "output_type": "stream",
          "text": [
            "Fitness value of the best solution = 0.10870885005881412\n",
            "Index of the best solution : 0\n",
            "Absolute Error :  9.198883\n"
          ]
        }
      ]
    },
    {
      "cell_type": "markdown",
      "metadata": {
        "id": "Shz3uSAT4WAA"
      },
      "source": [
        "# Protocolo experimental: Cuadro Latino\n"
      ]
    },
    {
      "cell_type": "markdown",
      "metadata": {
        "id": "2pGrcc0x6pvs"
      },
      "source": [
        "Aqui se proceden a realizar las diferentes arquitecturas expuestas en el documento entregable, para determiner cual es la mejor configuración de red"
      ]
    },
    {
      "cell_type": "code",
      "metadata": {
        "colab": {
          "base_uri": "https://localhost:8080/"
        },
        "id": "S-zr3aa14eIq",
        "outputId": "d002a9fb-068c-4731-beee-121b80ad2377"
      },
      "source": [
        "# create model \n",
        "model = tf.keras.Sequential([\n",
        "    \n",
        "    tf.keras.layers.Conv2D(128, (3,3), input_shape=(240,240,1), activation=tf.keras.activations.relu),\n",
        "    tf.keras.layers.Conv2D(128, (3,3), activation=tf.keras.activations.relu),\n",
        "    tf.keras.layers.MaxPool2D(2,2),\n",
        "    tf.keras.layers.Conv2D(128, (3,3), activation=tf.keras.activations.relu),\n",
        "    tf.keras.layers.Conv2D(128, (3,3), activation=tf.keras.activations.relu),\n",
        "    tf.keras.layers.MaxPool2D(2,2),\n",
        "    tf.keras.layers.Dropout(0.2),\n",
        "    tf.keras.layers.Flatten(),\n",
        "    tf.keras.layers.Dense(128, activation=tf.keras.activations.relu),\n",
        "    tf.keras.layers.Dense(1)  \n",
        "    \n",
        "])\n",
        "\n",
        "model.compile(loss=tf.keras.losses.MeanSquaredError(), optimizer=tf.keras.optimizers.SGD(lr=1e-4), metrics=['mae'])\n",
        "model.summary()"
      ],
      "execution_count": null,
      "outputs": [
        {
          "name": "stdout",
          "output_type": "stream",
          "text": [
            "Model: \"sequential\"\n",
            "_________________________________________________________________\n",
            "Layer (type)                 Output Shape              Param #   \n",
            "=================================================================\n",
            "conv2d (Conv2D)              (None, 238, 238, 128)     1280      \n",
            "_________________________________________________________________\n",
            "conv2d_1 (Conv2D)            (None, 236, 236, 128)     147584    \n",
            "_________________________________________________________________\n",
            "conv2d_2 (Conv2D)            (None, 234, 234, 128)     147584    \n",
            "_________________________________________________________________\n",
            "max_pooling2d (MaxPooling2D) (None, 117, 117, 128)     0         \n",
            "_________________________________________________________________\n",
            "conv2d_3 (Conv2D)            (None, 115, 115, 128)     147584    \n",
            "_________________________________________________________________\n",
            "conv2d_4 (Conv2D)            (None, 113, 113, 128)     147584    \n",
            "_________________________________________________________________\n",
            "conv2d_5 (Conv2D)            (None, 111, 111, 128)     147584    \n",
            "_________________________________________________________________\n",
            "max_pooling2d_1 (MaxPooling2 (None, 55, 55, 128)       0         \n",
            "_________________________________________________________________\n",
            "dropout (Dropout)            (None, 55, 55, 128)       0         \n",
            "_________________________________________________________________\n",
            "flatten (Flatten)            (None, 387200)            0         \n",
            "_________________________________________________________________\n",
            "dense (Dense)                (None, 128)               49561728  \n",
            "_________________________________________________________________\n",
            "dense_1 (Dense)              (None, 1)                 129       \n",
            "=================================================================\n",
            "Total params: 50,301,057\n",
            "Trainable params: 50,301,057\n",
            "Non-trainable params: 0\n",
            "_________________________________________________________________\n"
          ]
        },
        {
          "name": "stderr",
          "output_type": "stream",
          "text": [
            "/usr/local/lib/python3.7/dist-packages/keras/optimizer_v2/optimizer_v2.py:356: UserWarning: The `lr` argument is deprecated, use `learning_rate` instead.\n",
            "  \"The `lr` argument is deprecated, use `learning_rate` instead.\")\n"
          ]
        }
      ]
    },
    {
      "cell_type": "code",
      "metadata": {
        "colab": {
          "base_uri": "https://localhost:8080/"
        },
        "id": "D6OTDFcG5Iz4",
        "outputId": "48f020a4-3a42-4771-dbf7-266743735399"
      },
      "source": [
        "history1 = model.fit(train_X, y_train, validation_data=(test_X, y_test), epochs=15, batch_size=4)"
      ],
      "execution_count": null,
      "outputs": [
        {
          "name": "stdout",
          "output_type": "stream",
          "text": [
            "Epoch 1/15\n",
            "400/400 [==============================] - 204s 418ms/step - loss: 462.5822 - mae: 16.5150 - val_loss: 45.3154 - val_mae: 5.3346\n",
            "Epoch 2/15\n",
            "400/400 [==============================] - 173s 433ms/step - loss: 58.8640 - mae: 6.0849 - val_loss: 46.5617 - val_mae: 5.4354\n",
            "Epoch 3/15\n",
            "400/400 [==============================] - 167s 416ms/step - loss: 58.2498 - mae: 6.0967 - val_loss: 46.2519 - val_mae: 5.4191\n",
            "Epoch 4/15\n",
            "400/400 [==============================] - 173s 433ms/step - loss: 58.6703 - mae: 6.1477 - val_loss: 48.0447 - val_mae: 5.4466\n",
            "Epoch 5/15\n",
            "400/400 [==============================] - 173s 432ms/step - loss: 56.2145 - mae: 5.9575 - val_loss: 47.7969 - val_mae: 5.4374\n",
            "Epoch 6/15\n",
            "400/400 [==============================] - 166s 416ms/step - loss: 58.2233 - mae: 6.0936 - val_loss: 47.6905 - val_mae: 5.5388\n",
            "Epoch 7/15\n",
            "400/400 [==============================] - 167s 417ms/step - loss: 58.6782 - mae: 6.1585 - val_loss: 52.4306 - val_mae: 5.6953\n",
            "Epoch 8/15\n",
            "400/400 [==============================] - 167s 417ms/step - loss: 56.1368 - mae: 5.9725 - val_loss: 49.2941 - val_mae: 5.5138\n",
            "Epoch 9/15\n",
            "400/400 [==============================] - 174s 434ms/step - loss: 57.0136 - mae: 5.9876 - val_loss: 45.3983 - val_mae: 5.3465\n",
            "Epoch 10/15\n",
            "400/400 [==============================] - 174s 435ms/step - loss: 56.8999 - mae: 6.0747 - val_loss: 50.0503 - val_mae: 5.7075\n",
            "Epoch 11/15\n",
            "400/400 [==============================] - 174s 435ms/step - loss: 57.0781 - mae: 6.0053 - val_loss: 54.1848 - val_mae: 6.0118\n",
            "Epoch 12/15\n",
            "400/400 [==============================] - 174s 435ms/step - loss: 58.0770 - mae: 6.0705 - val_loss: 74.0617 - val_mae: 7.2032\n",
            "Epoch 13/15\n",
            "400/400 [==============================] - 167s 418ms/step - loss: 55.7485 - mae: 5.9451 - val_loss: 50.8650 - val_mae: 5.7763\n",
            "Epoch 14/15\n",
            "400/400 [==============================] - 174s 435ms/step - loss: 57.9922 - mae: 6.0951 - val_loss: 45.3820 - val_mae: 5.3369\n",
            "Epoch 15/15\n",
            "400/400 [==============================] - 167s 418ms/step - loss: 56.4495 - mae: 5.9791 - val_loss: 52.3923 - val_mae: 5.6930\n"
          ]
        }
      ]
    },
    {
      "cell_type": "code",
      "metadata": {
        "colab": {
          "base_uri": "https://localhost:8080/",
          "height": 294
        },
        "id": "xAZWQsXWQJ__",
        "outputId": "1e680e67-8dba-4876-9150-c6d158f1e5fe"
      },
      "source": [
        "# plot mae\n",
        "plt.plot(history1.history['mae'])\n",
        "plt.plot(history1.history['val_mae'])\n",
        "plt.legend(['train mae', 'val_mae'])\n",
        "plt.ylim(0, 10)\n",
        "plt.xlim(10, 15)\n",
        "\n",
        "plt.xticks(np.arange(0,15, 5))\n",
        "\n",
        "plt.xlabel('epochs')\n",
        "plt.ylabel('mean absolute error')\n",
        "plt.title('Mae in every epoch')\n",
        "plt.show()"
      ],
      "execution_count": null,
      "outputs": [
        {
          "data": {
            "image/png": "[encoded data removed]",
            "text/plain": [
              "<Figure size 432x288 with 1 Axes>"
            ]
          },
          "metadata": {},
          "output_type": "display_data"
        }
      ]
    },
    {
      "cell_type": "code",
      "metadata": {
        "colab": {
          "base_uri": "https://localhost:8080/"
        },
        "id": "J3Es9Qbr5gEJ",
        "outputId": "73f34dae-4773-4ce9-c987-9b29936c62a4"
      },
      "source": [
        "# Evaluate the model on the test data using `evaluate`\n",
        "print(\"Evaluate on test data\")\n",
        "results = model.evaluate(test_X, y_test, batch_size=4)\n",
        "print(\"test mse:\", results[1])"
      ],
      "execution_count": null,
      "outputs": [
        {
          "name": "stdout",
          "output_type": "stream",
          "text": [
            "Evaluate on test data\n",
            "100/100 [==============================] - 3s 30ms/step - loss: 23.1482 - mae: 3.8893\n",
            "test mse: 3.8893117904663086\n"
          ]
        }
      ]
    },
    {
      "cell_type": "code",
      "metadata": {
        "id": "OdESyVu-lySF"
      },
      "source": [
        "from keras.utils.vis_utils import plot_model"
      ],
      "execution_count": null,
      "outputs": []
    },
    {
      "cell_type": "code",
      "metadata": {
        "colab": {
          "base_uri": "https://localhost:8080/",
          "height": 1000
        },
        "id": "TI0Q1lT6cLwd",
        "outputId": "e7e920e5-4d76-46e2-f3f6-ee3604d0cab9"
      },
      "source": [
        "plot_model(model, to_file='model_plot.png', show_shapes=True, show_layer_names=True)"
      ],
      "execution_count": null,
      "outputs": [
        {
          "data": {
            "image/png": "[encoded data removed]",
            "text/plain": [
              "<IPython.core.display.Image object>"
            ]
          },
          "execution_count": 13,
          "metadata": {},
          "output_type": "execute_result"
        }
      ]
    },
    {
      "cell_type": "markdown",
      "metadata": {
        "id": "v1jqZ7P2NzNk"
      },
      "source": [
        "# Parte 2: Implementación AG"
      ]
    },
    {
      "cell_type": "markdown",
      "metadata": {
        "id": "veRR4y6ET52a"
      },
      "source": [
        "Una pequeña prueba del paquete de GA "
      ]
    },
    {
      "cell_type": "code",
      "metadata": {
        "colab": {
          "base_uri": "https://localhost:8080/",
          "height": 689
        },
        "id": "PAZ-6um2T0pR",
        "outputId": "fd9d546c-a242-4a54-97bd-bbe2a18815da"
      },
      "source": [
        "import pygad\n",
        "import numpy\n",
        "\n",
        "function_inputs = [4,-2,3.5,5,-11,-4.7]\n",
        "desired_output = 44 \n",
        "\n",
        "def fitness_func(solution, solution_idx):\n",
        "    output = numpy.sum(solution*function_inputs)\n",
        "    fitness = 1.0 / (numpy.abs(output - desired_output) + 0.000001)\n",
        "    return fitness\n",
        "\n",
        "num_generations = 100\n",
        "num_parents_mating = 10\n",
        "sol_per_pop = 20\n",
        "num_genes = len(function_inputs)\n",
        "\n",
        "ga_instance = pygad.GA(num_generations=num_generations,\n",
        "                       num_parents_mating=num_parents_mating,\n",
        "                       fitness_func=fitness_func,\n",
        "                       sol_per_pop=sol_per_pop,\n",
        "                       num_genes=num_genes)\n",
        "\n",
        "ga_instance.run()\n",
        "\n",
        "ga_instance.plot_result()"
      ],
      "execution_count": null,
      "outputs": [
        {
          "output_type": "stream",
          "name": "stderr",
          "text": [
            "/usr/local/lib/python3.7/dist-packages/pygad/pygad.py:469: UserWarning: The percentage of genes to mutate (mutation_percent_genes=10) resutled in selecting (0) genes. The number of genes to mutate is set to 1 (mutation_num_genes=1).\n",
            "If you do not want to mutate any gene, please set mutation_type=None.\n",
            "  if not self.suppress_warnings: warnings.warn(\"The percentage of genes to mutate (mutation_percent_genes={mutation_percent}) resutled in selecting ({mutation_num}) genes. The number of genes to mutate is set to 1 (mutation_num_genes=1).\\nIf you do not want to mutate any gene, please set mutation_type=None.\".format(mutation_percent=mutation_percent_genes, mutation_num=mutation_num_genes))\n",
            "/usr/local/lib/python3.7/dist-packages/pygad/pygad.py:3135: UserWarning: Please use the plot_fitness() method instead of plot_result(). The plot_result() method will be removed in the future.\n",
            "  warnings.warn(\"Please use the plot_fitness() method instead of plot_result(). The plot_result() method will be removed in the future.\")\n"
          ]
        },
        {
          "output_type": "display_data",
          "data": {
            "image/png": "[encoded data removed]",
            "text/plain": [
              "<Figure size 432x288 with 1 Axes>"
            ]
          },
          "metadata": {
            "needs_background": "light"
          }
        },
        {
          "output_type": "execute_result",
          "data": {
            "image/png": "[encoded data removed]",
            "text/plain": [
              "<Figure size 432x288 with 1 Axes>"
            ]
          },
          "metadata": {},
          "execution_count": 3
        }
      ]
    },
    {
      "cell_type": "code",
      "metadata": {
        "colab": {
          "base_uri": "https://localhost:8080/"
        },
        "id": "lDRG5yDSVrR9",
        "outputId": "0a10f4f2-27dd-4119-93c4-613760eadbf3"
      },
      "source": [
        "# create model \n",
        "model = tf.keras.Sequential([\n",
        "    \n",
        "    tf.keras.layers.Conv2D(128, (3,3), input_shape=(240,240,1), activation=tf.keras.activations.relu),\n",
        "    tf.keras.layers.Conv2D(128, (3,3), activation=tf.keras.activations.relu),\n",
        "    tf.keras.layers.MaxPool2D(2,2),\n",
        "    tf.keras.layers.Conv2D(128, (3,3), activation=tf.keras.activations.relu),\n",
        "    tf.keras.layers.Conv2D(128, (3,3), activation=tf.keras.activations.relu),\n",
        "    tf.keras.layers.MaxPool2D(2,2),\n",
        "    tf.keras.layers.Dropout(0.2),\n",
        "    tf.keras.layers.Flatten(),\n",
        "    tf.keras.layers.Dense(128, activation=tf.keras.activations.relu),\n",
        "    tf.keras.layers.Dense(1)  \n",
        "    \n",
        "])\n",
        "\n",
        "model.compile(loss=tf.keras.losses.MeanSquaredError(), optimizer=tf.keras.optimizers.SGD(lr=1e-4), metrics=['mae'])\n",
        "model.summary()"
      ],
      "execution_count": null,
      "outputs": [
        {
          "output_type": "stream",
          "name": "stdout",
          "text": [
            "Model: \"sequential\"\n",
            "_________________________________________________________________\n",
            "Layer (type)                 Output Shape              Param #   \n",
            "=================================================================\n",
            "conv2d (Conv2D)              (None, 238, 238, 128)     1280      \n",
            "_________________________________________________________________\n",
            "conv2d_1 (Conv2D)            (None, 236, 236, 128)     147584    \n",
            "_________________________________________________________________\n",
            "max_pooling2d (MaxPooling2D) (None, 118, 118, 128)     0         \n",
            "_________________________________________________________________\n",
            "conv2d_2 (Conv2D)            (None, 116, 116, 128)     147584    \n",
            "_________________________________________________________________\n",
            "conv2d_3 (Conv2D)            (None, 114, 114, 128)     147584    \n",
            "_________________________________________________________________\n",
            "max_pooling2d_1 (MaxPooling2 (None, 57, 57, 128)       0         \n",
            "_________________________________________________________________\n",
            "dropout (Dropout)            (None, 57, 57, 128)       0         \n",
            "_________________________________________________________________\n",
            "flatten (Flatten)            (None, 415872)            0         \n",
            "_________________________________________________________________\n",
            "dense (Dense)                (None, 128)               53231744  \n",
            "_________________________________________________________________\n",
            "dense_1 (Dense)              (None, 1)                 129       \n",
            "=================================================================\n",
            "Total params: 53,675,905\n",
            "Trainable params: 53,675,905\n",
            "Non-trainable params: 0\n",
            "_________________________________________________________________\n"
          ]
        },
        {
          "output_type": "stream",
          "name": "stderr",
          "text": [
            "/usr/local/lib/python3.7/dist-packages/keras/optimizer_v2/optimizer_v2.py:356: UserWarning: The `lr` argument is deprecated, use `learning_rate` instead.\n",
            "  \"The `lr` argument is deprecated, use `learning_rate` instead.\")\n"
          ]
        }
      ]
    },
    {
      "cell_type": "code",
      "metadata": {
        "id": "JuldGddPXM1s"
      },
      "source": [
        "\n",
        "\n",
        "def fitness_func(solution, sol_idx):\n",
        "    global data_inputs, data_outputs, keras_ga, model\n",
        "\n",
        "    model_weights_matrix = pygad.kerasga.model_weights_as_matrix(model=model,\n",
        "                                                                 weights_vector=solution)\n",
        "\n",
        "    model.set_weights(weights=model_weights_matrix)\n",
        "\n",
        "    predictions = model.predict(data_inputs)\n",
        "\n",
        "    mae = tensorflow.keras.losses.MeanAbsoluteError()\n",
        "    abs_error = mae(data_outputs, predictions) + 0.012\n",
        "    solution_fitness = 1.0 / abs_error\n",
        "\n",
        "    return solution_fitness\n",
        "\n",
        "def callback_generation(ga_instance):\n",
        "    print(\"Generation = {generation}\".format(generation=ga_instance.generations_completed))\n",
        "    print(\"Fitness    = {fitness}\".format(fitness=ga_instance.best_solution()[1]))\n"
      ],
      "execution_count": null,
      "outputs": []
    },
    {
      "cell_type": "code",
      "metadata": {
        "id": "7lnoK7MYXtfb"
      },
      "source": [
        "weights_vector = pygad.kerasga.model_weights_as_vector(model=model)\n",
        "\n",
        "keras_ga = pygad.kerasga.KerasGA(model=model,\n",
        "                                 num_solutions=4)"
      ],
      "execution_count": null,
      "outputs": []
    },
    {
      "cell_type": "code",
      "metadata": {
        "colab": {
          "base_uri": "https://localhost:8080/"
        },
        "id": "acu4oVMScfjv",
        "outputId": "21f690b0-e172-4bda-efb5-2fa0f0c422a1"
      },
      "source": [
        "train_X.shape\n"
      ],
      "execution_count": null,
      "outputs": [
        {
          "output_type": "execute_result",
          "data": {
            "text/plain": [
              "(1600, 240, 240, 1)"
            ]
          },
          "metadata": {},
          "execution_count": 11
        }
      ]
    },
    {
      "cell_type": "code",
      "metadata": {
        "id": "YTyj25VmdV4o"
      },
      "source": [
        "train_X = train_X[:200, :240,:240,:1]"
      ],
      "execution_count": null,
      "outputs": []
    },
    {
      "cell_type": "code",
      "metadata": {
        "colab": {
          "base_uri": "https://localhost:8080/"
        },
        "id": "KR5ZpKnddeSg",
        "outputId": "7f006bcd-1ccd-4e97-a434-1260c1627051"
      },
      "source": [
        "train_X.shape"
      ],
      "execution_count": null,
      "outputs": [
        {
          "output_type": "execute_result",
          "data": {
            "text/plain": [
              "(200, 240, 240, 1)"
            ]
          },
          "metadata": {},
          "execution_count": 9
        }
      ]
    },
    {
      "cell_type": "code",
      "metadata": {
        "colab": {
          "base_uri": "https://localhost:8080/"
        },
        "id": "wQNilPKMdj9i",
        "outputId": "6cf388e7-4fe0-4103-97f3-69df442e7fba"
      },
      "source": [
        "y_train.shape"
      ],
      "execution_count": null,
      "outputs": [
        {
          "output_type": "execute_result",
          "data": {
            "text/plain": [
              "(1600, 1)"
            ]
          },
          "metadata": {},
          "execution_count": 14
        }
      ]
    },
    {
      "cell_type": "code",
      "metadata": {
        "id": "45Ov9FpjdoH5"
      },
      "source": [
        "y_train = y_train[:200,:1]"
      ],
      "execution_count": null,
      "outputs": []
    },
    {
      "cell_type": "code",
      "metadata": {
        "colab": {
          "base_uri": "https://localhost:8080/"
        },
        "id": "EEDBSZ0hdvkT",
        "outputId": "dff82b90-09d9-46fd-e7f4-9f3b6e01dc2e"
      },
      "source": [
        "y_train.shape"
      ],
      "execution_count": null,
      "outputs": [
        {
          "output_type": "execute_result",
          "data": {
            "text/plain": [
              "(200, 1)"
            ]
          },
          "metadata": {},
          "execution_count": 11
        }
      ]
    },
    {
      "cell_type": "code",
      "metadata": {
        "colab": {
          "base_uri": "https://localhost:8080/"
        },
        "id": "pMwG9WssfcrE",
        "outputId": "48141644-cd8c-4b26-8258-71e6094809b5"
      },
      "source": [
        "y_test.shape"
      ],
      "execution_count": null,
      "outputs": [
        {
          "output_type": "execute_result",
          "data": {
            "text/plain": [
              "(400, 1)"
            ]
          },
          "metadata": {},
          "execution_count": 20
        }
      ]
    },
    {
      "cell_type": "code",
      "metadata": {
        "id": "4LpF1UySfe77"
      },
      "source": [
        "y_test = y_test[:200,:1]"
      ],
      "execution_count": null,
      "outputs": []
    },
    {
      "cell_type": "code",
      "metadata": {
        "colab": {
          "base_uri": "https://localhost:8080/",
          "height": 1000
        },
        "id": "8l82yk-dYH0z",
        "outputId": "bc97283b-a49c-4fbc-a9a9-58bde4767731"
      },
      "source": [
        "# Data inputs\n",
        "data_inputs = train_X\n",
        "\n",
        "# Data outputs\n",
        "data_outputs = y_test\n",
        "\n",
        "num_generations = 20\n",
        "num_parents_mating = 4\n",
        "initial_population = keras_ga.population_weights\n",
        "\n",
        "ga_instance = pygad.GA(num_generations=num_generations, \n",
        "                       num_parents_mating=num_parents_mating, \n",
        "                       initial_population=initial_population,\n",
        "                       fitness_func=fitness_func,\n",
        "                       on_generation=callback_generation)\n",
        "ga_instance.run()\n",
        "\n",
        "# After the generations complete, some plots are showed that summarize how the outputs/fitness values evolve over generations.\n",
        "ga_instance.plot_result(title=\"PyGAD & Keras - Iteration vs. Fitness\", linewidth=4)\n",
        "\n",
        "# Returning the details of the best solution.\n",
        "solution, solution_fitness, solution_idx = ga_instance.best_solution()\n",
        "#print(\"Fitness value of the best solution = {solution_fitness}\".format(solution_fitness=solution_fitness))\n",
        "print(\"Index of the best solution : {solution_idx}\".format(solution_idx=solution_idx))\n",
        "\n",
        "# Fetch the parameters of the best solution.\n",
        "best_solution_weights = pygad.kerasga.model_weights_as_matrix(model=model,\n",
        "                                                              weights_vector=solution)"
      ],
      "execution_count": null,
      "outputs": [
        {
          "output_type": "stream",
          "name": "stdout",
          "text": [
            "Generation = 1\n",
            "Fitness    = 0.031527249044431674\n",
            "Generation = 2\n",
            "Fitness    = 0.031527249044431674\n",
            "Generation = 3\n",
            "Fitness    = 0.031527249044431674\n",
            "Generation = 4\n",
            "Fitness    = 0.031527249044431674\n",
            "Generation = 5\n",
            "Fitness    = 0.031527249044431674\n",
            "Generation = 6\n",
            "Fitness    = 0.031527249044431674\n",
            "Generation = 7\n",
            "Fitness    = 0.031527249044431674\n",
            "Generation = 8\n",
            "Fitness    = 0.031527249044431674\n",
            "Generation = 9\n",
            "Fitness    = 0.031527249044431674\n",
            "Generation = 10\n",
            "Fitness    = 0.031527249044431674\n",
            "Generation = 11\n",
            "Fitness    = 0.031527249044431674\n",
            "Generation = 12\n",
            "Fitness    = 0.031527249044431674\n",
            "Generation = 13\n",
            "Fitness    = 0.031527249044431674\n",
            "Generation = 14\n",
            "Fitness    = 0.031527249044431674\n",
            "Generation = 15\n",
            "Fitness    = 0.031527249044431674\n",
            "Generation = 16\n",
            "Fitness    = 0.031527249044431674\n",
            "Generation = 17\n",
            "Fitness    = 0.031527249044431674\n",
            "Generation = 18\n",
            "Fitness    = 0.031527249044431674\n",
            "Generation = 19\n",
            "Fitness    = 0.031527249044431674\n",
            "Generation = 20\n",
            "Fitness    = 0.031527249044431674\n"
          ]
        },
        {
          "output_type": "stream",
          "name": "stderr",
          "text": [
            "/usr/local/lib/python3.7/dist-packages/pygad/pygad.py:3135: UserWarning: Please use the plot_fitness() method instead of plot_result(). The plot_result() method will be removed in the future.\n",
            "  warnings.warn(\"Please use the plot_fitness() method instead of plot_result(). The plot_result() method will be removed in the future.\")\n"
          ]
        },
        {
          "output_type": "display_data",
          "data": {
            "image/png": "[encoded data removed]",
            "text/plain": [
              "<Figure size 432x288 with 1 Axes>"
            ]
          },
          "metadata": {
            "needs_background": "light"
          }
        },
        {
          "output_type": "stream",
          "name": "stdout",
          "text": [
            "Fitness value of the best solution = 0.031527249044431674\n",
            "Index of the best solution : 0\n"
          ]
        }
      ]
    },
    {
      "cell_type": "code",
      "metadata": {
        "colab": {
          "base_uri": "https://localhost:8080/"
        },
        "id": "Xyr7kRcBhfwL",
        "outputId": "02472d48-6530-4b70-e348-b438b655fb1d"
      },
      "source": [
        "ga_instance.best_solution_generation"
      ],
      "execution_count": null,
      "outputs": [
        {
          "output_type": "execute_result",
          "data": {
            "text/plain": [
              "0"
            ]
          },
          "metadata": {},
          "execution_count": 18
        }
      ]
    },
    {
      "cell_type": "code",
      "metadata": {
        "colab": {
          "base_uri": "https://localhost:8080/"
        },
        "id": "PW1uzeHGXtwL",
        "outputId": "ef92477d-464f-45a7-b68e-d1589e029c9d"
      },
      "source": [
        "model.set_weights(best_solution_weights)\n",
        "predictions = model.predict(data_inputs)\n",
        "print(\"Predictions : \\n\", predictions)\n",
        "\n",
        "mae = tensorflow.keras.losses.MeanAbsoluteError()\n",
        "abs_error = mae(data_outputs, predictions).numpy()\n",
        "print(\"Absolute Error : \", abs_error)"
      ],
      "execution_count": null,
      "outputs": [
        {
          "output_type": "stream",
          "name": "stdout",
          "text": [
            "Predictions : \n",
            " [[-3.88648012e-04]\n",
            " [-2.79630488e-03]\n",
            " [-7.61253154e-03]\n",
            " [-5.34081226e-03]\n",
            " [-7.67388660e-03]\n",
            " [-1.34052709e-03]\n",
            " [ 8.09400692e-04]\n",
            " [-1.80635287e-03]\n",
            " [-8.06860439e-03]\n",
            " [-1.80198252e-03]\n",
            " [-2.62404396e-03]\n",
            " [ 2.40760739e-03]\n",
            " [-1.87320984e-04]\n",
            " [-5.26858959e-03]\n",
            " [ 2.67281826e-03]\n",
            " [-6.72813552e-03]\n",
            " [-1.28424894e-02]\n",
            " [-2.40430795e-03]\n",
            " [ 2.80938111e-03]\n",
            " [ 6.08378556e-04]\n",
            " [-1.01346131e-02]\n",
            " [ 6.55014766e-04]\n",
            " [-1.10984500e-03]\n",
            " [ 3.43885436e-03]\n",
            " [ 4.06779628e-03]\n",
            " [-9.67257470e-03]\n",
            " [-1.09103639e-02]\n",
            " [-4.87228995e-03]\n",
            " [-4.45881998e-03]\n",
            " [-1.85398234e-03]\n",
            " [-7.78072607e-03]\n",
            " [ 9.18971375e-04]\n",
            " [ 9.79960896e-05]\n",
            " [-4.95602190e-03]\n",
            " [-1.23122418e-02]\n",
            " [ 1.61228620e-03]\n",
            " [-9.78826173e-03]\n",
            " [-4.63043107e-03]\n",
            " [ 1.58231892e-03]\n",
            " [-4.00840258e-03]\n",
            " [-1.08628534e-04]\n",
            " [-7.61130452e-03]\n",
            " [-5.60334884e-03]\n",
            " [-2.64780433e-03]\n",
            " [-5.38860727e-03]\n",
            " [-4.92580188e-03]\n",
            " [-2.23389128e-04]\n",
            " [-5.27009973e-03]\n",
            " [-6.82576606e-03]\n",
            " [ 7.04499520e-03]\n",
            " [-4.46571317e-03]\n",
            " [-8.47908948e-03]\n",
            " [-1.00275297e-02]\n",
            " [-4.64878744e-03]\n",
            " [-2.73038354e-03]\n",
            " [-1.72685683e-02]\n",
            " [-4.38199053e-03]\n",
            " [-5.52397873e-03]\n",
            " [-2.68524536e-03]\n",
            " [-4.04051971e-03]\n",
            " [ 2.50498485e-03]\n",
            " [-6.11348264e-03]\n",
            " [-2.33465619e-03]\n",
            " [-2.01513502e-03]\n",
            " [-9.45795327e-03]\n",
            " [-5.10475645e-03]\n",
            " [-8.07642704e-04]\n",
            " [ 4.82741557e-03]\n",
            " [-1.07863080e-02]\n",
            " [-3.42158740e-03]\n",
            " [ 9.26855253e-04]\n",
            " [-5.81732439e-03]\n",
            " [-5.75361494e-03]\n",
            " [-2.14718003e-03]\n",
            " [-4.78168204e-03]\n",
            " [-1.31360739e-02]\n",
            " [-4.94267093e-03]\n",
            " [ 1.10760238e-03]\n",
            " [ 3.52471299e-03]\n",
            " [-5.48434071e-03]\n",
            " [-1.59146381e-03]\n",
            " [-4.55587031e-03]\n",
            " [-6.90517668e-03]\n",
            " [ 3.30106472e-03]\n",
            " [-4.18582559e-03]\n",
            " [-4.86412132e-03]\n",
            " [-4.98064328e-03]\n",
            " [-3.65415192e-03]\n",
            " [-3.14062042e-03]\n",
            " [-7.47370254e-03]\n",
            " [ 1.06599089e-02]\n",
            " [ 3.55670636e-04]\n",
            " [-9.08906013e-03]\n",
            " [-4.75853588e-03]\n",
            " [-2.04701629e-03]\n",
            " [-1.71810377e-03]\n",
            " [-4.27021971e-03]\n",
            " [-3.73723742e-04]\n",
            " [-6.77939085e-03]\n",
            " [ 2.31171632e-03]\n",
            " [-6.77853881e-04]\n",
            " [-6.93351030e-04]\n",
            " [-5.46993408e-03]\n",
            " [-1.08449711e-02]\n",
            " [-9.76689998e-03]\n",
            " [-8.42611585e-03]\n",
            " [-6.05422864e-03]\n",
            " [-4.97978181e-03]\n",
            " [-3.30057088e-03]\n",
            " [-1.01555334e-02]\n",
            " [-4.25668200e-03]\n",
            " [-1.73478993e-03]\n",
            " [-7.12585752e-04]\n",
            " [-3.02004255e-03]\n",
            " [-1.83348241e-03]\n",
            " [-9.67559312e-03]\n",
            " [-7.22493627e-04]\n",
            " [ 7.97568820e-04]\n",
            " [-1.27110761e-02]\n",
            " [-1.12173567e-03]\n",
            " [-1.72818732e-03]\n",
            " [-7.19006266e-03]\n",
            " [-1.10279098e-02]\n",
            " [-5.75926248e-03]\n",
            " [ 5.48273325e-04]\n",
            " [-1.43013690e-02]\n",
            " [ 4.86128777e-03]\n",
            " [-1.10581052e-02]\n",
            " [ 1.90826552e-03]\n",
            " [-5.21812541e-03]\n",
            " [-5.71577926e-04]\n",
            " [-1.99064426e-03]\n",
            " [-5.29900566e-03]\n",
            " [-6.22113468e-03]\n",
            " [-6.75040670e-03]\n",
            " [-4.66778921e-03]\n",
            " [-2.27311905e-03]\n",
            " [ 5.85664762e-03]\n",
            " [ 1.71868107e-03]\n",
            " [-8.01339652e-03]\n",
            " [-2.11489759e-03]\n",
            " [-8.90987553e-03]\n",
            " [-5.43070491e-05]\n",
            " [-3.34542780e-03]\n",
            " [-5.73440688e-03]\n",
            " [-6.87022833e-03]\n",
            " [-3.88779491e-03]\n",
            " [-2.88370671e-03]\n",
            " [-1.11000407e-02]\n",
            " [-6.87110238e-03]\n",
            " [-2.51343753e-03]\n",
            " [ 3.37345945e-03]\n",
            " [-2.61381967e-04]\n",
            " [ 4.54316440e-04]\n",
            " [ 1.97406393e-03]\n",
            " [-2.83783511e-03]\n",
            " [ 1.46216946e-04]\n",
            " [-3.26888030e-03]\n",
            " [ 6.51699211e-03]\n",
            " [-3.85035994e-04]\n",
            " [-8.93083867e-03]\n",
            " [-6.20146748e-03]\n",
            " [-1.01127103e-02]\n",
            " [-3.46176745e-03]\n",
            " [ 4.36611101e-03]\n",
            " [-4.61154210e-04]\n",
            " [-3.72490473e-03]\n",
            " [-4.82195383e-03]\n",
            " [-4.45488328e-03]\n",
            " [-4.65262355e-03]\n",
            " [-1.53778947e-03]\n",
            " [ 1.28979911e-03]\n",
            " [ 1.65531272e-03]\n",
            " [-3.79706314e-03]\n",
            " [-5.27001079e-03]\n",
            " [ 1.15781312e-03]\n",
            " [-2.30178400e-03]\n",
            " [ 4.98028379e-03]\n",
            " [-2.61668861e-03]\n",
            " [-2.06167158e-03]\n",
            " [ 2.36608248e-04]\n",
            " [-5.93330385e-03]\n",
            " [-4.94776992e-03]\n",
            " [-7.92173203e-03]\n",
            " [-5.66557376e-03]\n",
            " [-2.26333505e-03]\n",
            " [-5.53295948e-03]\n",
            " [-3.85552528e-03]\n",
            " [-2.22296780e-03]\n",
            " [-1.73351285e-03]\n",
            " [ 1.42309000e-04]\n",
            " [-7.85043091e-03]\n",
            " [-3.99591401e-03]\n",
            " [-8.33264459e-03]\n",
            " [-1.95450988e-03]\n",
            " [-3.66640580e-03]\n",
            " [-1.11354077e-02]\n",
            " [-1.04363607e-02]\n",
            " [-9.42390133e-03]\n",
            " [ 7.31922162e-04]]\n",
            "Absolute Error :  31.718594\n"
          ]
        }
      ]
    },
    {
      "cell_type": "markdown",
      "metadata": {
        "id": "NTc7k2tg9u3X"
      },
      "source": [
        "## Otra red entrenada con GA"
      ]
    },
    {
      "cell_type": "code",
      "metadata": {
        "id": "G6uMgUUn8nl2"
      },
      "source": [
        "data_inputs = train_X\n",
        "\n",
        "# Data outputs\n",
        "data_outputs = y_train"
      ],
      "execution_count": 30,
      "outputs": []
    },
    {
      "cell_type": "code",
      "metadata": {
        "id": "_Xn_J2nV-8Q1"
      },
      "source": [
        "import pygad.nn\n",
        "import pygad.gann\n",
        "\n",
        "def fitness_func(solution, sol_idx):\n",
        "    global GANN_instance, data_inputs, data_outputs\n",
        "\n",
        "    predictions = pygad.nn.predict(last_layer=GANN_instance.population_networks[sol_idx],\n",
        "                                   data_inputs=data_inputs)\n",
        "    \n",
        "    mae = tensorflow.keras.losses.MeanAbsoluteError()\n",
        "    abs_error = mae(data_outputs, predictions) + 0.012\n",
        "    solution_fitness = 1.0 / abs_error\n",
        "\n",
        "    return solution_fitness\n",
        "\n",
        "#def fitness_func(solution, sol_idx):\n",
        "#    global data_inputs, data_outputs, keras_ga, model\n",
        "\n",
        "#    model_weights_matrix = pygad.kerasga.model_weights_as_matrix(model=model,\n",
        "#                                                                 weights_vector=solution)\n",
        "\n",
        "#    model.set_weights(weights=model_weights_matrix)\n",
        "\n",
        "#    predictions = model.predict(data_inputs)\n",
        "\n",
        "#    mae = tensorflow.keras.losses.MeanAbsoluteError()\n",
        "#    abs_error = mae(data_outputs, predictions) + 0.012\n",
        "#    solution_fitness = 1.0 / abs_error\n",
        "\n",
        "#    return solution_fitness"
      ],
      "execution_count": 31,
      "outputs": []
    },
    {
      "cell_type": "code",
      "metadata": {
        "id": "XZBnp-lG-5H3"
      },
      "source": [
        "def callback_generation(ga_instance):\n",
        "    global GANN_instance\n",
        "\n",
        "    population_matrices = pygad.gann.population_as_matrices(population_networks=GANN_instance.population_networks, population_vectors=ga_instance.population)\n",
        "    GANN_instance.update_population_trained_weights(population_trained_weights=population_matrices)"
      ],
      "execution_count": 32,
      "outputs": []
    },
    {
      "cell_type": "code",
      "metadata": {
        "id": "asdPo1W1UAtV"
      },
      "source": [
        "num_inputs = data_inputs.shape[1]\n",
        "num_classes = 2\n",
        "\n",
        "num_solutions = 4\n",
        "GANN_instance = pygad.gann.GANN(num_solutions=num_solutions,\n",
        "                                num_neurons_input=num_inputs,\n",
        "                                num_neurons_hidden_layers=[2],\n",
        "                                num_neurons_output=num_classes,\n",
        "                                hidden_activations=[\"relu\"],\n",
        "                                output_activation=\"sigmoid\")"
      ],
      "execution_count": 35,
      "outputs": []
    },
    {
      "cell_type": "code",
      "metadata": {
        "colab": {
          "base_uri": "https://localhost:8080/"
        },
        "id": "J73xUJQCBCGl",
        "outputId": "720576df-6122-45e8-be65-bfecbf1a348b"
      },
      "source": [
        "num_inputs"
      ],
      "execution_count": 37,
      "outputs": [
        {
          "output_type": "execute_result",
          "data": {
            "text/plain": [
              "240"
            ]
          },
          "metadata": {},
          "execution_count": 37
        }
      ]
    },
    {
      "cell_type": "code",
      "metadata": {
        "id": "LbUwnpp59dRw"
      },
      "source": [
        "population_vectors = pygad.gann.population_as_vectors(population_networks=GANN_instance.population_networks)\n",
        "\n",
        "initial_population = population_vectors.copy()\n",
        "\n",
        "num_parents_mating = 4\n",
        "\n",
        "num_generations = 20\n",
        "\n",
        "mutation_percent_genes = 5\n",
        "\n",
        "parent_selection_type = \"sss\"\n",
        "\n",
        "crossover_type = \"single_point\"\n",
        "\n",
        "mutation_type = \"random\" \n",
        "\n",
        "keep_parents = 1\n",
        "\n",
        "init_range_low = -2\n",
        "init_range_high = 5"
      ],
      "execution_count": 40,
      "outputs": []
    },
    {
      "cell_type": "code",
      "metadata": {
        "colab": {
          "base_uri": "https://localhost:8080/"
        },
        "id": "kKqmkRUD9euF",
        "outputId": "42fc7420-1c3e-4911-d644-6d00e14ad1cd"
      },
      "source": [
        "ga_instance = pygad.GA(num_generations=num_generations, \n",
        "                       num_parents_mating=num_parents_mating, \n",
        "                       initial_population=initial_population,\n",
        "                       fitness_func=fitness_func,\n",
        "                       mutation_percent_genes=mutation_percent_genes,\n",
        "                       init_range_low=init_range_low,\n",
        "                       init_range_high=init_range_high,\n",
        "                       parent_selection_type=parent_selection_type,\n",
        "                       crossover_type=crossover_type,\n",
        "                       mutation_type=mutation_type,\n",
        "                       keep_parents=keep_parents,\n",
        "                       callback_generation=callback_generation)"
      ],
      "execution_count": 41,
      "outputs": [
        {
          "output_type": "stream",
          "name": "stderr",
          "text": [
            "/usr/local/lib/python3.7/dist-packages/pygad/pygad.py:731: UserWarning: Starting from PyGAD 2.6.0, the callback_generation parameter is deprecated and will be removed in a later release of PyGAD. Please use the on_generation parameter instead.\n",
            "  if not self.suppress_warnings: warnings.warn(\"Starting from PyGAD 2.6.0, the callback_generation parameter is deprecated and will be removed in a later release of PyGAD. Please use the on_generation parameter instead.\")\n"
          ]
        }
      ]
    },
    {
      "cell_type": "code",
      "metadata": {
        "id": "kxCqthGO9oQW",
        "colab": {
          "base_uri": "https://localhost:8080/",
          "height": 329
        },
        "outputId": "dc4cc3fa-3282-4f0c-98ce-e01e692e5176"
      },
      "source": [
        "ga_instance.run()"
      ],
      "execution_count": 42,
      "outputs": [
        {
          "output_type": "error",
          "ename": "ValueError",
          "evalue": "ignored",
          "traceback": [
            "\u001b[0;31m---------------------------------------------------------------------------\u001b[0m",
            "\u001b[0;31mValueError\u001b[0m                                Traceback (most recent call last)",
            "\u001b[0;32m<ipython-input-42-e87ae048484f>\u001b[0m in \u001b[0;36m<module>\u001b[0;34m()\u001b[0m\n\u001b[0;32m----> 1\u001b[0;31m \u001b[0mga_instance\u001b[0m\u001b[0;34m.\u001b[0m\u001b[0mrun\u001b[0m\u001b[0;34m(\u001b[0m\u001b[0;34m)\u001b[0m\u001b[0;34m\u001b[0m\u001b[0;34m\u001b[0m\u001b[0m\n\u001b[0m",
            "\u001b[0;32m/usr/local/lib/python3.7/dist-packages/pygad/pygad.py\u001b[0m in \u001b[0;36mrun\u001b[0;34m(self)\u001b[0m\n\u001b[1;32m   1185\u001b[0m \u001b[0;34m\u001b[0m\u001b[0m\n\u001b[1;32m   1186\u001b[0m         \u001b[0;31m# Measuring the fitness of each chromosome in the population. Save the fitness in the last_generation_fitness attribute.\u001b[0m\u001b[0;34m\u001b[0m\u001b[0;34m\u001b[0m\u001b[0;34m\u001b[0m\u001b[0m\n\u001b[0;32m-> 1187\u001b[0;31m         \u001b[0mself\u001b[0m\u001b[0;34m.\u001b[0m\u001b[0mlast_generation_fitness\u001b[0m \u001b[0;34m=\u001b[0m \u001b[0mself\u001b[0m\u001b[0;34m.\u001b[0m\u001b[0mcal_pop_fitness\u001b[0m\u001b[0;34m(\u001b[0m\u001b[0;34m)\u001b[0m\u001b[0;34m\u001b[0m\u001b[0;34m\u001b[0m\u001b[0m\n\u001b[0m\u001b[1;32m   1188\u001b[0m \u001b[0;34m\u001b[0m\u001b[0m\n\u001b[1;32m   1189\u001b[0m         \u001b[0mbest_solution\u001b[0m\u001b[0;34m,\u001b[0m \u001b[0mbest_solution_fitness\u001b[0m\u001b[0;34m,\u001b[0m \u001b[0mbest_match_idx\u001b[0m \u001b[0;34m=\u001b[0m \u001b[0mself\u001b[0m\u001b[0;34m.\u001b[0m\u001b[0mbest_solution\u001b[0m\u001b[0;34m(\u001b[0m\u001b[0mpop_fitness\u001b[0m\u001b[0;34m=\u001b[0m\u001b[0mself\u001b[0m\u001b[0;34m.\u001b[0m\u001b[0mlast_generation_fitness\u001b[0m\u001b[0;34m)\u001b[0m\u001b[0;34m\u001b[0m\u001b[0;34m\u001b[0m\u001b[0m\n",
            "\u001b[0;32m/usr/local/lib/python3.7/dist-packages/pygad/pygad.py\u001b[0m in \u001b[0;36mcal_pop_fitness\u001b[0;34m(self)\u001b[0m\n\u001b[1;32m   1156\u001b[0m                 \u001b[0mfitness\u001b[0m \u001b[0;34m=\u001b[0m \u001b[0mself\u001b[0m\u001b[0;34m.\u001b[0m\u001b[0mlast_generation_fitness\u001b[0m\u001b[0;34m[\u001b[0m\u001b[0mparent_idx\u001b[0m\u001b[0;34m]\u001b[0m\u001b[0;34m\u001b[0m\u001b[0;34m\u001b[0m\u001b[0m\n\u001b[1;32m   1157\u001b[0m             \u001b[0;32melse\u001b[0m\u001b[0;34m:\u001b[0m\u001b[0;34m\u001b[0m\u001b[0;34m\u001b[0m\u001b[0m\n\u001b[0;32m-> 1158\u001b[0;31m                 \u001b[0mfitness\u001b[0m \u001b[0;34m=\u001b[0m \u001b[0mself\u001b[0m\u001b[0;34m.\u001b[0m\u001b[0mfitness_func\u001b[0m\u001b[0;34m(\u001b[0m\u001b[0msol\u001b[0m\u001b[0;34m,\u001b[0m \u001b[0msol_idx\u001b[0m\u001b[0;34m)\u001b[0m\u001b[0;34m\u001b[0m\u001b[0;34m\u001b[0m\u001b[0m\n\u001b[0m\u001b[1;32m   1159\u001b[0m             \u001b[0mpop_fitness\u001b[0m\u001b[0;34m.\u001b[0m\u001b[0mappend\u001b[0m\u001b[0;34m(\u001b[0m\u001b[0mfitness\u001b[0m\u001b[0;34m)\u001b[0m\u001b[0;34m\u001b[0m\u001b[0;34m\u001b[0m\u001b[0m\n\u001b[1;32m   1160\u001b[0m \u001b[0;34m\u001b[0m\u001b[0m\n",
            "\u001b[0;32m<ipython-input-31-ca53ba11f31c>\u001b[0m in \u001b[0;36mfitness_func\u001b[0;34m(solution, sol_idx)\u001b[0m\n\u001b[1;32m      6\u001b[0m \u001b[0;34m\u001b[0m\u001b[0m\n\u001b[1;32m      7\u001b[0m     predictions = pygad.nn.predict(last_layer=GANN_instance.population_networks[sol_idx],\n\u001b[0;32m----> 8\u001b[0;31m                                    data_inputs=data_inputs)\n\u001b[0m\u001b[1;32m      9\u001b[0m \u001b[0;34m\u001b[0m\u001b[0m\n\u001b[1;32m     10\u001b[0m     \u001b[0mmae\u001b[0m \u001b[0;34m=\u001b[0m \u001b[0mtensorflow\u001b[0m\u001b[0;34m.\u001b[0m\u001b[0mkeras\u001b[0m\u001b[0;34m.\u001b[0m\u001b[0mlosses\u001b[0m\u001b[0;34m.\u001b[0m\u001b[0mMeanAbsoluteError\u001b[0m\u001b[0;34m(\u001b[0m\u001b[0;34m)\u001b[0m\u001b[0;34m\u001b[0m\u001b[0;34m\u001b[0m\u001b[0m\n",
            "\u001b[0;32m/usr/local/lib/python3.7/dist-packages/pygad/nn/nn.py\u001b[0m in \u001b[0;36mpredict\u001b[0;34m(last_layer, data_inputs, problem_type)\u001b[0m\n\u001b[1;32m    308\u001b[0m         \u001b[0mr1\u001b[0m \u001b[0;34m=\u001b[0m \u001b[0mdata_inputs\u001b[0m\u001b[0;34m[\u001b[0m\u001b[0msample_idx\u001b[0m\u001b[0;34m,\u001b[0m \u001b[0;34m:\u001b[0m\u001b[0;34m]\u001b[0m\u001b[0;34m\u001b[0m\u001b[0;34m\u001b[0m\u001b[0m\n\u001b[1;32m    309\u001b[0m         \u001b[0;32mfor\u001b[0m \u001b[0mcurr_weights\u001b[0m\u001b[0;34m,\u001b[0m \u001b[0mactivation\u001b[0m \u001b[0;32min\u001b[0m \u001b[0mzip\u001b[0m\u001b[0;34m(\u001b[0m\u001b[0mweights\u001b[0m\u001b[0;34m,\u001b[0m \u001b[0mactivations\u001b[0m\u001b[0;34m)\u001b[0m\u001b[0;34m:\u001b[0m\u001b[0;34m\u001b[0m\u001b[0;34m\u001b[0m\u001b[0m\n\u001b[0;32m--> 310\u001b[0;31m             \u001b[0mr1\u001b[0m \u001b[0;34m=\u001b[0m \u001b[0mnumpy\u001b[0m\u001b[0;34m.\u001b[0m\u001b[0mmatmul\u001b[0m\u001b[0;34m(\u001b[0m\u001b[0mr1\u001b[0m\u001b[0;34m,\u001b[0m \u001b[0mcurr_weights\u001b[0m\u001b[0;34m)\u001b[0m\u001b[0;34m\u001b[0m\u001b[0;34m\u001b[0m\u001b[0m\n\u001b[0m\u001b[1;32m    311\u001b[0m             \u001b[0;32mif\u001b[0m \u001b[0mactivation\u001b[0m \u001b[0;34m==\u001b[0m \u001b[0;34m\"relu\"\u001b[0m\u001b[0;34m:\u001b[0m\u001b[0;34m\u001b[0m\u001b[0;34m\u001b[0m\u001b[0m\n\u001b[1;32m    312\u001b[0m                 \u001b[0mr1\u001b[0m \u001b[0;34m=\u001b[0m \u001b[0mrelu\u001b[0m\u001b[0;34m(\u001b[0m\u001b[0mr1\u001b[0m\u001b[0;34m)\u001b[0m\u001b[0;34m\u001b[0m\u001b[0;34m\u001b[0m\u001b[0m\n",
            "\u001b[0;31mValueError\u001b[0m: matmul: Input operand 1 has a mismatch in its core dimension 0, with gufunc signature (n?,k),(k,m?)->(n?,m?) (size 240 is different from 1)"
          ]
        }
      ]
    },
    {
      "cell_type": "markdown",
      "metadata": {
        "id": "MfnuQNB39y8a"
      },
      "source": [
        "## Otra red convolucional con GA"
      ]
    },
    {
      "cell_type": "code",
      "metadata": {
        "id": "Ec-3YDs6975m"
      },
      "source": [
        "import numpy\n",
        "\n",
        "train_inputs = data_inputs\n",
        "train_outputs = data_outputs"
      ],
      "execution_count": 56,
      "outputs": []
    },
    {
      "cell_type": "code",
      "metadata": {
        "id": "tzfqgd6E-D6m"
      },
      "source": [
        "import pygad.cnn\n",
        "\n",
        "input_layer = pygad.cnn.Input2D(input_shape=(240, 240, 1))\n",
        "conv_layer = pygad.cnn.Conv2D(num_filters=2,\n",
        "                              kernel_size=3,\n",
        "                              previous_layer=input_layer,\n",
        "                              activation_function=\"relu\")\n",
        "average_pooling_layer = pygad.cnn.AveragePooling2D(pool_size=5,\n",
        "                                                   previous_layer=conv_layer,\n",
        "                                                   stride=3)\n",
        "\n",
        "flatten_layer = pygad.cnn.Flatten(previous_layer=average_pooling_layer)\n",
        "dense_layer = pygad.cnn.Dense(num_neurons=4,\n",
        "                              previous_layer=flatten_layer,\n",
        "                              activation_function=\"sigmoid\")"
      ],
      "execution_count": 44,
      "outputs": []
    },
    {
      "cell_type": "code",
      "metadata": {
        "id": "O9NbWfYK-I5N"
      },
      "source": [
        "model = pygad.cnn.Model(last_layer=dense_layer,\n",
        "                        epochs=5,\n",
        "                        learning_rate=0.01)"
      ],
      "execution_count": 45,
      "outputs": []
    },
    {
      "cell_type": "code",
      "metadata": {
        "colab": {
          "base_uri": "https://localhost:8080/"
        },
        "id": "5FRfWwVd-N07",
        "outputId": "d0ee74ad-c13f-4079-fe39-4769a8d22c69"
      },
      "source": [
        "model.summary()"
      ],
      "execution_count": null,
      "outputs": [
        {
          "output_type": "stream",
          "name": "stdout",
          "text": [
            "\n",
            "----------Network Architecture----------\n",
            "<class 'pygad.cnn.cnn.Conv2D'>\n",
            "<class 'pygad.cnn.cnn.AveragePooling2D'>\n",
            "<class 'pygad.cnn.cnn.Flatten'>\n",
            "<class 'pygad.cnn.cnn.Dense'>\n",
            "----------------------------------------\n",
            "\n"
          ]
        }
      ]
    },
    {
      "cell_type": "code",
      "metadata": {
        "id": "BTYlWhgd-PQI"
      },
      "source": [
        "import pygad.gacnn\n",
        "\n",
        "GACNN_instance = pygad.gacnn.GACNN(model=model,\n",
        "                                   num_solutions=4)"
      ],
      "execution_count": 46,
      "outputs": []
    },
    {
      "cell_type": "code",
      "metadata": {
        "id": "-L0tdXah-Tbf"
      },
      "source": [
        "def fitness_func(solution, sol_idx):\n",
        "    global GACNN_instance, data_inputs, data_outputs\n",
        "\n",
        "    predictions = GACNN_instance.population_networks[sol_idx].predict(data_inputs=data_inputs)\n",
        "    correct_predictions = numpy.where(predictions == data_outputs)[0].size\n",
        "    solution_fitness = (correct_predictions/data_outputs.size)*100\n",
        "\n",
        "    return solution_fitness"
      ],
      "execution_count": 47,
      "outputs": []
    },
    {
      "cell_type": "code",
      "metadata": {
        "id": "v2Ctghwf-b1X"
      },
      "source": [
        "population_vectors = pygad.gacnn.population_as_vectors(population_networks=GACNN_instance.population_networks)\n",
        "\n",
        "initial_population = population_vectors.copy()\n",
        "\n",
        "num_parents_mating = 2\n",
        "\n",
        "num_generations = 10\n",
        "\n",
        "mutation_percent_genes = 0.1\n",
        "\n",
        "parent_selection_type = \"sss\"\n",
        "\n",
        "crossover_type = \"single_point\"\n",
        "\n",
        "mutation_type = \"random\"\n",
        "\n",
        "keep_parents = -1"
      ],
      "execution_count": 48,
      "outputs": []
    },
    {
      "cell_type": "code",
      "metadata": {
        "colab": {
          "base_uri": "https://localhost:8080/"
        },
        "id": "3R8n_WxW-gyC",
        "outputId": "fd19a788-d009-4e4f-9a75-552df21a8bbe"
      },
      "source": [
        "ga_instance = pygad.GA(num_generations=num_generations, \n",
        "                       num_parents_mating=num_parents_mating, \n",
        "                       initial_population=initial_population,\n",
        "                       fitness_func=fitness_func,\n",
        "                       mutation_percent_genes=mutation_percent_genes,\n",
        "                       parent_selection_type=parent_selection_type,\n",
        "                       crossover_type=crossover_type,\n",
        "                       mutation_type=mutation_type,\n",
        "                       keep_parents=keep_parents,\n",
        "                       callback_generation=callback_generation)"
      ],
      "execution_count": 49,
      "outputs": [
        {
          "output_type": "stream",
          "name": "stderr",
          "text": [
            "/usr/local/lib/python3.7/dist-packages/pygad/pygad.py:731: UserWarning: Starting from PyGAD 2.6.0, the callback_generation parameter is deprecated and will be removed in a later release of PyGAD. Please use the on_generation parameter instead.\n",
            "  if not self.suppress_warnings: warnings.warn(\"Starting from PyGAD 2.6.0, the callback_generation parameter is deprecated and will be removed in a later release of PyGAD. Please use the on_generation parameter instead.\")\n"
          ]
        }
      ]
    },
    {
      "cell_type": "code",
      "metadata": {
        "id": "Kp8lrGI0-tsz"
      },
      "source": [
        "def callback_generation(ga_instance):\n",
        "    global GACNN_instance, last_fitness\n",
        "\n",
        "    population_matrices = pygad.gacnn.population_as_matrices(population_networks=GACNN_instance.population_networks, population_vectors=ga_instance.population)\n",
        "\n",
        "    GACNN_instance.update_population_trained_weights(population_trained_weights=population_matrices)"
      ],
      "execution_count": 50,
      "outputs": []
    },
    {
      "cell_type": "code",
      "metadata": {
        "colab": {
          "base_uri": "https://localhost:8080/",
          "height": 346
        },
        "id": "bd_9xKBq-xLc",
        "outputId": "c42ceec7-c686-4965-b6b1-dbd967e64dde"
      },
      "source": [
        "ga_instance.run()"
      ],
      "execution_count": 51,
      "outputs": [
        {
          "output_type": "error",
          "ename": "KeyboardInterrupt",
          "evalue": "ignored",
          "traceback": [
            "\u001b[0;31m---------------------------------------------------------------------------\u001b[0m",
            "\u001b[0;31mKeyboardInterrupt\u001b[0m                         Traceback (most recent call last)",
            "\u001b[0;32m<ipython-input-51-e87ae048484f>\u001b[0m in \u001b[0;36m<module>\u001b[0;34m()\u001b[0m\n\u001b[0;32m----> 1\u001b[0;31m \u001b[0mga_instance\u001b[0m\u001b[0;34m.\u001b[0m\u001b[0mrun\u001b[0m\u001b[0;34m(\u001b[0m\u001b[0;34m)\u001b[0m\u001b[0;34m\u001b[0m\u001b[0;34m\u001b[0m\u001b[0m\n\u001b[0m",
            "\u001b[0;32m/usr/local/lib/python3.7/dist-packages/pygad/pygad.py\u001b[0m in \u001b[0;36mrun\u001b[0;34m(self)\u001b[0m\n\u001b[1;32m   1185\u001b[0m \u001b[0;34m\u001b[0m\u001b[0m\n\u001b[1;32m   1186\u001b[0m         \u001b[0;31m# Measuring the fitness of each chromosome in the population. Save the fitness in the last_generation_fitness attribute.\u001b[0m\u001b[0;34m\u001b[0m\u001b[0;34m\u001b[0m\u001b[0;34m\u001b[0m\u001b[0m\n\u001b[0;32m-> 1187\u001b[0;31m         \u001b[0mself\u001b[0m\u001b[0;34m.\u001b[0m\u001b[0mlast_generation_fitness\u001b[0m \u001b[0;34m=\u001b[0m \u001b[0mself\u001b[0m\u001b[0;34m.\u001b[0m\u001b[0mcal_pop_fitness\u001b[0m\u001b[0;34m(\u001b[0m\u001b[0;34m)\u001b[0m\u001b[0;34m\u001b[0m\u001b[0;34m\u001b[0m\u001b[0m\n\u001b[0m\u001b[1;32m   1188\u001b[0m \u001b[0;34m\u001b[0m\u001b[0m\n\u001b[1;32m   1189\u001b[0m         \u001b[0mbest_solution\u001b[0m\u001b[0;34m,\u001b[0m \u001b[0mbest_solution_fitness\u001b[0m\u001b[0;34m,\u001b[0m \u001b[0mbest_match_idx\u001b[0m \u001b[0;34m=\u001b[0m \u001b[0mself\u001b[0m\u001b[0;34m.\u001b[0m\u001b[0mbest_solution\u001b[0m\u001b[0;34m(\u001b[0m\u001b[0mpop_fitness\u001b[0m\u001b[0;34m=\u001b[0m\u001b[0mself\u001b[0m\u001b[0;34m.\u001b[0m\u001b[0mlast_generation_fitness\u001b[0m\u001b[0;34m)\u001b[0m\u001b[0;34m\u001b[0m\u001b[0;34m\u001b[0m\u001b[0m\n",
            "\u001b[0;32m/usr/local/lib/python3.7/dist-packages/pygad/pygad.py\u001b[0m in \u001b[0;36mcal_pop_fitness\u001b[0;34m(self)\u001b[0m\n\u001b[1;32m   1156\u001b[0m                 \u001b[0mfitness\u001b[0m \u001b[0;34m=\u001b[0m \u001b[0mself\u001b[0m\u001b[0;34m.\u001b[0m\u001b[0mlast_generation_fitness\u001b[0m\u001b[0;34m[\u001b[0m\u001b[0mparent_idx\u001b[0m\u001b[0;34m]\u001b[0m\u001b[0;34m\u001b[0m\u001b[0;34m\u001b[0m\u001b[0m\n\u001b[1;32m   1157\u001b[0m             \u001b[0;32melse\u001b[0m\u001b[0;34m:\u001b[0m\u001b[0;34m\u001b[0m\u001b[0;34m\u001b[0m\u001b[0m\n\u001b[0;32m-> 1158\u001b[0;31m                 \u001b[0mfitness\u001b[0m \u001b[0;34m=\u001b[0m \u001b[0mself\u001b[0m\u001b[0;34m.\u001b[0m\u001b[0mfitness_func\u001b[0m\u001b[0;34m(\u001b[0m\u001b[0msol\u001b[0m\u001b[0;34m,\u001b[0m \u001b[0msol_idx\u001b[0m\u001b[0;34m)\u001b[0m\u001b[0;34m\u001b[0m\u001b[0;34m\u001b[0m\u001b[0m\n\u001b[0m\u001b[1;32m   1159\u001b[0m             \u001b[0mpop_fitness\u001b[0m\u001b[0;34m.\u001b[0m\u001b[0mappend\u001b[0m\u001b[0;34m(\u001b[0m\u001b[0mfitness\u001b[0m\u001b[0;34m)\u001b[0m\u001b[0;34m\u001b[0m\u001b[0;34m\u001b[0m\u001b[0m\n\u001b[1;32m   1160\u001b[0m \u001b[0;34m\u001b[0m\u001b[0m\n",
            "\u001b[0;32m<ipython-input-47-f60a1df09b31>\u001b[0m in \u001b[0;36mfitness_func\u001b[0;34m(solution, sol_idx)\u001b[0m\n\u001b[1;32m      2\u001b[0m     \u001b[0;32mglobal\u001b[0m \u001b[0mGACNN_instance\u001b[0m\u001b[0;34m,\u001b[0m \u001b[0mdata_inputs\u001b[0m\u001b[0;34m,\u001b[0m \u001b[0mdata_outputs\u001b[0m\u001b[0;34m\u001b[0m\u001b[0;34m\u001b[0m\u001b[0m\n\u001b[1;32m      3\u001b[0m \u001b[0;34m\u001b[0m\u001b[0m\n\u001b[0;32m----> 4\u001b[0;31m     \u001b[0mpredictions\u001b[0m \u001b[0;34m=\u001b[0m \u001b[0mGACNN_instance\u001b[0m\u001b[0;34m.\u001b[0m\u001b[0mpopulation_networks\u001b[0m\u001b[0;34m[\u001b[0m\u001b[0msol_idx\u001b[0m\u001b[0;34m]\u001b[0m\u001b[0;34m.\u001b[0m\u001b[0mpredict\u001b[0m\u001b[0;34m(\u001b[0m\u001b[0mdata_inputs\u001b[0m\u001b[0;34m=\u001b[0m\u001b[0mdata_inputs\u001b[0m\u001b[0;34m)\u001b[0m\u001b[0;34m\u001b[0m\u001b[0;34m\u001b[0m\u001b[0m\n\u001b[0m\u001b[1;32m      5\u001b[0m     \u001b[0mcorrect_predictions\u001b[0m \u001b[0;34m=\u001b[0m \u001b[0mnumpy\u001b[0m\u001b[0;34m.\u001b[0m\u001b[0mwhere\u001b[0m\u001b[0;34m(\u001b[0m\u001b[0mpredictions\u001b[0m \u001b[0;34m==\u001b[0m \u001b[0mdata_outputs\u001b[0m\u001b[0;34m)\u001b[0m\u001b[0;34m[\u001b[0m\u001b[0;36m0\u001b[0m\u001b[0;34m]\u001b[0m\u001b[0;34m.\u001b[0m\u001b[0msize\u001b[0m\u001b[0;34m\u001b[0m\u001b[0;34m\u001b[0m\u001b[0m\n\u001b[1;32m      6\u001b[0m     \u001b[0msolution_fitness\u001b[0m \u001b[0;34m=\u001b[0m \u001b[0;34m(\u001b[0m\u001b[0mcorrect_predictions\u001b[0m\u001b[0;34m/\u001b[0m\u001b[0mdata_outputs\u001b[0m\u001b[0;34m.\u001b[0m\u001b[0msize\u001b[0m\u001b[0;34m)\u001b[0m\u001b[0;34m*\u001b[0m\u001b[0;36m100\u001b[0m\u001b[0;34m\u001b[0m\u001b[0;34m\u001b[0m\u001b[0m\n",
            "\u001b[0;32m/usr/local/lib/python3.7/dist-packages/pygad/cnn/cnn.py\u001b[0m in \u001b[0;36mpredict\u001b[0;34m(self, data_inputs)\u001b[0m\n\u001b[1;32m    833\u001b[0m         \u001b[0mpredictions\u001b[0m \u001b[0;34m=\u001b[0m \u001b[0;34m[\u001b[0m\u001b[0;34m]\u001b[0m\u001b[0;34m\u001b[0m\u001b[0;34m\u001b[0m\u001b[0m\n\u001b[1;32m    834\u001b[0m         \u001b[0;32mfor\u001b[0m \u001b[0msample\u001b[0m \u001b[0;32min\u001b[0m \u001b[0mdata_inputs\u001b[0m\u001b[0;34m:\u001b[0m\u001b[0;34m\u001b[0m\u001b[0;34m\u001b[0m\u001b[0m\n\u001b[0;32m--> 835\u001b[0;31m             \u001b[0mprobs\u001b[0m \u001b[0;34m=\u001b[0m \u001b[0mself\u001b[0m\u001b[0;34m.\u001b[0m\u001b[0mfeed_sample\u001b[0m\u001b[0;34m(\u001b[0m\u001b[0msample\u001b[0m\u001b[0;34m=\u001b[0m\u001b[0msample\u001b[0m\u001b[0;34m)\u001b[0m\u001b[0;34m\u001b[0m\u001b[0;34m\u001b[0m\u001b[0m\n\u001b[0m\u001b[1;32m    836\u001b[0m             \u001b[0mpredicted_label\u001b[0m \u001b[0;34m=\u001b[0m \u001b[0mnumpy\u001b[0m\u001b[0;34m.\u001b[0m\u001b[0mwhere\u001b[0m\u001b[0;34m(\u001b[0m\u001b[0mnumpy\u001b[0m\u001b[0;34m.\u001b[0m\u001b[0mmax\u001b[0m\u001b[0;34m(\u001b[0m\u001b[0mprobs\u001b[0m\u001b[0;34m)\u001b[0m \u001b[0;34m==\u001b[0m \u001b[0mprobs\u001b[0m\u001b[0;34m)\u001b[0m\u001b[0;34m[\u001b[0m\u001b[0;36m0\u001b[0m\u001b[0;34m]\u001b[0m\u001b[0;34m[\u001b[0m\u001b[0;36m0\u001b[0m\u001b[0;34m]\u001b[0m\u001b[0;34m\u001b[0m\u001b[0;34m\u001b[0m\u001b[0m\n\u001b[1;32m    837\u001b[0m             \u001b[0mpredictions\u001b[0m\u001b[0;34m.\u001b[0m\u001b[0mappend\u001b[0m\u001b[0;34m(\u001b[0m\u001b[0mpredicted_label\u001b[0m\u001b[0;34m)\u001b[0m\u001b[0;34m\u001b[0m\u001b[0;34m\u001b[0m\u001b[0m\n",
            "\u001b[0;32m/usr/local/lib/python3.7/dist-packages/pygad/cnn/cnn.py\u001b[0m in \u001b[0;36mfeed_sample\u001b[0;34m(self, sample)\u001b[0m\n\u001b[1;32m    779\u001b[0m \u001b[0;31m#                import time\u001b[0m\u001b[0;34m\u001b[0m\u001b[0;34m\u001b[0m\u001b[0;34m\u001b[0m\u001b[0m\n\u001b[1;32m    780\u001b[0m \u001b[0;31m#                time1 = time.time()\u001b[0m\u001b[0;34m\u001b[0m\u001b[0;34m\u001b[0m\u001b[0;34m\u001b[0m\u001b[0m\n\u001b[0;32m--> 781\u001b[0;31m                 \u001b[0mlayer\u001b[0m\u001b[0;34m.\u001b[0m\u001b[0mconv\u001b[0m\u001b[0;34m(\u001b[0m\u001b[0minput2D\u001b[0m\u001b[0;34m=\u001b[0m\u001b[0mlast_layer_outputs\u001b[0m\u001b[0;34m)\u001b[0m\u001b[0;34m\u001b[0m\u001b[0;34m\u001b[0m\u001b[0m\n\u001b[0m\u001b[1;32m    782\u001b[0m \u001b[0;31m#                time2 = time.time()\u001b[0m\u001b[0;34m\u001b[0m\u001b[0;34m\u001b[0m\u001b[0;34m\u001b[0m\u001b[0m\n\u001b[1;32m    783\u001b[0m \u001b[0;31m#                print(time2 - time1)\u001b[0m\u001b[0;34m\u001b[0m\u001b[0;34m\u001b[0m\u001b[0;34m\u001b[0m\u001b[0m\n",
            "\u001b[0;32m/usr/local/lib/python3.7/dist-packages/pygad/cnn/cnn.py\u001b[0m in \u001b[0;36mconv\u001b[0;34m(self, input2D)\u001b[0m\n\u001b[1;32m    363\u001b[0m             \u001b[0;32mraise\u001b[0m \u001b[0mValueError\u001b[0m\u001b[0;34m(\u001b[0m\u001b[0;34m'A filter must have an odd size. I.e. number of rows and columns must be odd.'\u001b[0m\u001b[0;34m)\u001b[0m\u001b[0;34m\u001b[0m\u001b[0;34m\u001b[0m\u001b[0m\n\u001b[1;32m    364\u001b[0m \u001b[0;34m\u001b[0m\u001b[0m\n\u001b[0;32m--> 365\u001b[0;31m         \u001b[0mself\u001b[0m\u001b[0;34m.\u001b[0m\u001b[0mlayer_output\u001b[0m \u001b[0;34m=\u001b[0m \u001b[0mself\u001b[0m\u001b[0;34m.\u001b[0m\u001b[0mconv_\u001b[0m\u001b[0;34m(\u001b[0m\u001b[0minput2D\u001b[0m\u001b[0;34m,\u001b[0m \u001b[0mself\u001b[0m\u001b[0;34m.\u001b[0m\u001b[0mtrained_weights\u001b[0m\u001b[0;34m)\u001b[0m\u001b[0;34m\u001b[0m\u001b[0;34m\u001b[0m\u001b[0m\n\u001b[0m\u001b[1;32m    366\u001b[0m \u001b[0;34m\u001b[0m\u001b[0m\n\u001b[1;32m    367\u001b[0m \u001b[0;32mclass\u001b[0m \u001b[0mAveragePooling2D\u001b[0m\u001b[0;34m:\u001b[0m\u001b[0;34m\u001b[0m\u001b[0;34m\u001b[0m\u001b[0m\n",
            "\u001b[0;32m/usr/local/lib/python3.7/dist-packages/pygad/cnn/cnn.py\u001b[0m in \u001b[0;36mconv_\u001b[0;34m(self, input2D, conv_filter)\u001b[0m\n\u001b[1;32m    331\u001b[0m                 \u001b[0;32mfor\u001b[0m \u001b[0mfilter_idx\u001b[0m \u001b[0;32min\u001b[0m \u001b[0mrange\u001b[0m\u001b[0;34m(\u001b[0m\u001b[0mconv_filter\u001b[0m\u001b[0;34m.\u001b[0m\u001b[0mshape\u001b[0m\u001b[0;34m[\u001b[0m\u001b[0;36m0\u001b[0m\u001b[0;34m]\u001b[0m\u001b[0;34m)\u001b[0m\u001b[0;34m:\u001b[0m\u001b[0;34m\u001b[0m\u001b[0;34m\u001b[0m\u001b[0m\n\u001b[1;32m    332\u001b[0m                     \u001b[0mcurr_result\u001b[0m \u001b[0;34m=\u001b[0m \u001b[0mcurr_region\u001b[0m \u001b[0;34m*\u001b[0m \u001b[0mconv_filter\u001b[0m\u001b[0;34m[\u001b[0m\u001b[0mfilter_idx\u001b[0m\u001b[0;34m]\u001b[0m\u001b[0;34m\u001b[0m\u001b[0;34m\u001b[0m\u001b[0m\n\u001b[0;32m--> 333\u001b[0;31m                     \u001b[0mconv_sum\u001b[0m \u001b[0;34m=\u001b[0m \u001b[0mnumpy\u001b[0m\u001b[0;34m.\u001b[0m\u001b[0msum\u001b[0m\u001b[0;34m(\u001b[0m\u001b[0mcurr_result\u001b[0m\u001b[0;34m)\u001b[0m \u001b[0;31m# Summing the result of multiplication.\u001b[0m\u001b[0;34m\u001b[0m\u001b[0;34m\u001b[0m\u001b[0m\n\u001b[0m\u001b[1;32m    334\u001b[0m \u001b[0;34m\u001b[0m\u001b[0m\n\u001b[1;32m    335\u001b[0m                     \u001b[0;32mif\u001b[0m \u001b[0mself\u001b[0m\u001b[0;34m.\u001b[0m\u001b[0mactivation\u001b[0m \u001b[0;32mis\u001b[0m \u001b[0;32mNone\u001b[0m\u001b[0;34m:\u001b[0m\u001b[0;34m\u001b[0m\u001b[0;34m\u001b[0m\u001b[0m\n",
            "\u001b[0;32m<__array_function__ internals>\u001b[0m in \u001b[0;36msum\u001b[0;34m(*args, **kwargs)\u001b[0m\n",
            "\u001b[0;32m/usr/local/lib/python3.7/dist-packages/numpy/core/fromnumeric.py\u001b[0m in \u001b[0;36msum\u001b[0;34m(a, axis, dtype, out, keepdims, initial, where)\u001b[0m\n\u001b[1;32m   2240\u001b[0m \u001b[0;34m\u001b[0m\u001b[0m\n\u001b[1;32m   2241\u001b[0m     return _wrapreduction(a, np.add, 'sum', axis, dtype, out, keepdims=keepdims,\n\u001b[0;32m-> 2242\u001b[0;31m                           initial=initial, where=where)\n\u001b[0m\u001b[1;32m   2243\u001b[0m \u001b[0;34m\u001b[0m\u001b[0m\n\u001b[1;32m   2244\u001b[0m \u001b[0;34m\u001b[0m\u001b[0m\n",
            "\u001b[0;32m/usr/local/lib/python3.7/dist-packages/numpy/core/fromnumeric.py\u001b[0m in \u001b[0;36m_wrapreduction\u001b[0;34m(obj, ufunc, method, axis, dtype, out, **kwargs)\u001b[0m\n\u001b[1;32m     85\u001b[0m                 \u001b[0;32mreturn\u001b[0m \u001b[0mreduction\u001b[0m\u001b[0;34m(\u001b[0m\u001b[0maxis\u001b[0m\u001b[0;34m=\u001b[0m\u001b[0maxis\u001b[0m\u001b[0;34m,\u001b[0m \u001b[0mout\u001b[0m\u001b[0;34m=\u001b[0m\u001b[0mout\u001b[0m\u001b[0;34m,\u001b[0m \u001b[0;34m**\u001b[0m\u001b[0mpasskwargs\u001b[0m\u001b[0;34m)\u001b[0m\u001b[0;34m\u001b[0m\u001b[0;34m\u001b[0m\u001b[0m\n\u001b[1;32m     86\u001b[0m \u001b[0;34m\u001b[0m\u001b[0m\n\u001b[0;32m---> 87\u001b[0;31m     \u001b[0;32mreturn\u001b[0m \u001b[0mufunc\u001b[0m\u001b[0;34m.\u001b[0m\u001b[0mreduce\u001b[0m\u001b[0;34m(\u001b[0m\u001b[0mobj\u001b[0m\u001b[0;34m,\u001b[0m \u001b[0maxis\u001b[0m\u001b[0;34m,\u001b[0m \u001b[0mdtype\u001b[0m\u001b[0;34m,\u001b[0m \u001b[0mout\u001b[0m\u001b[0;34m,\u001b[0m \u001b[0;34m**\u001b[0m\u001b[0mpasskwargs\u001b[0m\u001b[0;34m)\u001b[0m\u001b[0;34m\u001b[0m\u001b[0;34m\u001b[0m\u001b[0m\n\u001b[0m\u001b[1;32m     88\u001b[0m \u001b[0;34m\u001b[0m\u001b[0m\n\u001b[1;32m     89\u001b[0m \u001b[0;34m\u001b[0m\u001b[0m\n",
            "\u001b[0;31mKeyboardInterrupt\u001b[0m: "
          ]
        }
      ]
    },
    {
      "cell_type": "code",
      "metadata": {
        "colab": {
          "base_uri": "https://localhost:8080/"
        },
        "id": "pgVxB9qHXsG0",
        "outputId": "2f5637e0-e4c0-41a5-c25c-ade407044b76"
      },
      "source": [
        "#### Prueba Dave 2\n",
        "import numpy\n",
        "\n",
        "train_inputs = x_train\n",
        "train_outputs = y_train\n",
        "\n",
        "import pygad.cnn\n",
        "\n",
        "input_layer = pygad.cnn.Input2D(input_shape=(240, 240, 1))\n",
        "conv_layer = pygad.cnn.Conv2D(num_filters=4,\n",
        "                              kernel_size=3,\n",
        "                              previous_layer=input_layer,\n",
        "                              activation_function=\"relu\")\n",
        "average_pooling_layer = pygad.cnn.AveragePooling2D(pool_size=4,\n",
        "                                                   previous_layer=conv_layer,\n",
        "                                                   stride=3)\n",
        "conv_layer1 = pygad.cnn.Conv2D(num_filters=4,\n",
        "                              kernel_size=3,\n",
        "                              previous_layer=average_pooling_layer,\n",
        "                              activation_function=\"relu\")\n",
        "average_pooling_layer1 = pygad.cnn.AveragePooling2D(pool_size=4,\n",
        "                                                   previous_layer=conv_layer1,\n",
        "                                                   stride=3)\n",
        "\n",
        "flatten_layer = pygad.cnn.Flatten(previous_layer=average_pooling_layer)\n",
        "dense_layer = pygad.cnn.Dense(num_neurons=1,\n",
        "                              previous_layer=flatten_layer,\n",
        "                              activation_function=\"softmax\")\n",
        "\n",
        "model = pygad.cnn.Model(last_layer=dense_layer,\n",
        "                        epochs=20,\n",
        "                        learning_rate=0.01)\n",
        "\n",
        "import pygad.gacnn\n",
        "\n",
        "GACNN_instance = pygad.gacnn.GACNN(model=model,\n",
        "                                   num_solutions=1)\n",
        "\n",
        "def fitness_func(solution, sol_idx):\n",
        "    global GACNN_instance, data_inputs, data_outputs\n",
        "\n",
        "    predictions = GACNN_instance.population_networks[sol_idx].predict(data_inputs=data_inputs)\n",
        "    correct_predictions = numpy.where(predictions == data_outputs)[0].size\n",
        "    solution_fitness = (correct_predictions/data_outputs.size)*100\n",
        "\n",
        "    return solution_fitness\n",
        "\n",
        "def callback_generation(ga_instance):\n",
        "    global GACNN_instance, last_fitness\n",
        "\n",
        "    population_matrices = pygad.gacnn.population_as_matrices(population_networks=GACNN_instance.population_networks, population_vectors=ga_instance.population)\n",
        "\n",
        "    GACNN_instance.update_population_trained_weights(population_trained_weights=population_matrices)\n",
        "\n",
        "population_vectors = pygad.gacnn.population_as_vectors(population_networks=GACNN_instance.population_networks)\n",
        "initial_population = population_vectors.copy()\n",
        "num_parents_mating = 1\n",
        "num_generations = 100\n",
        "mutation_percent_genes = 0.2\n",
        "parent_selection_type = \"sss\"\n",
        "crossover_type = \"single_point\"\n",
        "mutation_type = \"random\"\n",
        "keep_parents = -1\n",
        "ga_instance = pygad.GA(num_generations=num_generations, \n",
        "                       num_parents_mating=num_parents_mating, \n",
        "                       initial_population=initial_population,\n",
        "                       fitness_func=fitness_func,\n",
        "                       mutation_percent_genes=mutation_percent_genes,\n",
        "                       parent_selection_type=parent_selection_type,\n",
        "                       crossover_type=crossover_type,\n",
        "                       mutation_type=mutation_type,\n",
        "                       keep_parents=keep_parents,\n",
        "                       callback_generation=callback_generation)\n"
      ],
      "execution_count": 59,
      "outputs": [
        {
          "output_type": "stream",
          "name": "stderr",
          "text": [
            "/usr/local/lib/python3.7/dist-packages/pygad/pygad.py:731: UserWarning: Starting from PyGAD 2.6.0, the callback_generation parameter is deprecated and will be removed in a later release of PyGAD. Please use the on_generation parameter instead.\n",
            "  if not self.suppress_warnings: warnings.warn(\"Starting from PyGAD 2.6.0, the callback_generation parameter is deprecated and will be removed in a later release of PyGAD. Please use the on_generation parameter instead.\")\n"
          ]
        }
      ]
    },
    {
      "cell_type": "code",
      "metadata": {
        "id": "gB1wfdynX0Rp"
      },
      "source": [
        "ga_instance.run()\n",
        "ga_instance.plot_result(title=\"PyGAD & Keras - Iteration vs. Fitness\", linewidth=4)\n",
        "\n",
        "# Returning the details of the best solution.\n",
        "solution, solution_fitness, solution_idx = ga_instance.best_solution()\n",
        "print(\"Fitness value of the best solution = {solution_fitness}\".format(solution_fitness=solution_fitness))\n",
        "print(\"Index of the best solution : {solution_idx}\".format(solution_idx=solution_idx))\n",
        "\n",
        "# Fetch the parameters of the best solution.\n",
        "best_solution_weights = pygad.kerasga.model_weights_as_matrix(model=model,\n",
        "                                                              weights_vector=solution)\n",
        "model.set_weights(best_solution_weights)\n",
        "predictions = model.predict(data_inputs)\n",
        "# print(\"Predictions : \\n\", predictions)\n",
        "\n",
        "# Calculate the categorical crossentropy for the trained model.\n",
        "mae = tensorflow.keras.losses.MeanAbsoluteError()\n",
        "abs_error = mae(data_outputs, predictions).numpy()\n",
        "print(\"Absolute Error : \", abs_error)"
      ],
      "execution_count": null,
      "outputs": []
    }
  ]
}