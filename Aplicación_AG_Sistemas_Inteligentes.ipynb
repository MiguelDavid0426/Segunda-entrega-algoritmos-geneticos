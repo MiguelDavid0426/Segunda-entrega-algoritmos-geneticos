{
  "nbformat": 4,
  "nbformat_minor": 0,
  "metadata": {
    "accelerator": "TPU",
    "colab": {
      "name": "Copia de Aplicación_AG_Sistemas_Inteligentes.ipynb",
      "provenance": [],
      "collapsed_sections": []
    },
    "kernelspec": {
      "display_name": "Python 3",
      "name": "python3"
    },
    "language_info": {
      "name": "python"
    }
  },
  "cells": [
    {
      "cell_type": "code",
      "metadata": {
        "colab": {
          "base_uri": "https://localhost:8080/"
        },
        "id": "sF09vSMBVBhZ",
        "outputId": "e5d8062c-8835-4ef3-a098-23c8211f8fb5"
      },
      "source": [
        "pip install pygad"
      ],
      "execution_count": null,
      "outputs": [
        {
          "output_type": "stream",
          "name": "stdout",
          "text": [
            "Collecting pygad\n",
            "  Downloading pygad-2.16.1-py3-none-any.whl (53 kB)\n",
            "\u001b[?25l\r\u001b[K     |██████▏                         | 10 kB 20.5 MB/s eta 0:00:01\r\u001b[K     |████████████▎                   | 20 kB 13.3 MB/s eta 0:00:01\r\u001b[K     |██████████████████▍             | 30 kB 10.4 MB/s eta 0:00:01\r\u001b[K     |████████████████████████▌       | 40 kB 9.1 MB/s eta 0:00:01\r\u001b[K     |██████████████████████████████▋ | 51 kB 5.3 MB/s eta 0:00:01\r\u001b[K     |████████████████████████████████| 53 kB 1.4 MB/s \n",
            "\u001b[?25hRequirement already satisfied: matplotlib in /usr/local/lib/python3.7/dist-packages (from pygad) (3.2.2)\n",
            "Requirement already satisfied: numpy in /usr/local/lib/python3.7/dist-packages (from pygad) (1.19.5)\n",
            "Requirement already satisfied: cycler>=0.10 in /usr/local/lib/python3.7/dist-packages (from matplotlib->pygad) (0.10.0)\n",
            "Requirement already satisfied: kiwisolver>=1.0.1 in /usr/local/lib/python3.7/dist-packages (from matplotlib->pygad) (1.3.2)\n",
            "Requirement already satisfied: python-dateutil>=2.1 in /usr/local/lib/python3.7/dist-packages (from matplotlib->pygad) (2.8.2)\n",
            "Requirement already satisfied: pyparsing!=2.0.4,!=2.1.2,!=2.1.6,>=2.0.1 in /usr/local/lib/python3.7/dist-packages (from matplotlib->pygad) (2.4.7)\n",
            "Requirement already satisfied: six in /usr/local/lib/python3.7/dist-packages (from cycler>=0.10->matplotlib->pygad) (1.15.0)\n",
            "Installing collected packages: pygad\n",
            "Successfully installed pygad-2.16.1\n"
          ]
        }
      ]
    },
    {
      "cell_type": "code",
      "metadata": {
        "colab": {
          "base_uri": "https://localhost:8080/"
        },
        "id": "-FrHmUsQ-ox_",
        "outputId": "5bcdf433-19cc-4f0c-c91e-3257d497ec10"
      },
      "source": [
        "pip install Keras-Applications"
      ],
      "execution_count": null,
      "outputs": [
        {
          "output_type": "stream",
          "name": "stdout",
          "text": [
            "Collecting Keras-Applications\n",
            "  Downloading Keras_Applications-1.0.8-py3-none-any.whl (50 kB)\n",
            "\u001b[?25l\r\u001b[K     |██████▌                         | 10 kB 21.3 MB/s eta 0:00:01\r\u001b[K     |█████████████                   | 20 kB 26.7 MB/s eta 0:00:01\r\u001b[K     |███████████████████▍            | 30 kB 17.7 MB/s eta 0:00:01\r\u001b[K     |█████████████████████████▉      | 40 kB 15.4 MB/s eta 0:00:01\r\u001b[K     |████████████████████████████████| 50 kB 3.0 MB/s \n",
            "\u001b[?25hRequirement already satisfied: h5py in /usr/local/lib/python3.7/dist-packages (from Keras-Applications) (3.1.0)\n",
            "Requirement already satisfied: numpy>=1.9.1 in /usr/local/lib/python3.7/dist-packages (from Keras-Applications) (1.19.5)\n",
            "Requirement already satisfied: cached-property in /usr/local/lib/python3.7/dist-packages (from h5py->Keras-Applications) (1.5.2)\n",
            "Installing collected packages: Keras-Applications\n",
            "Successfully installed Keras-Applications-1.0.8\n"
          ]
        }
      ]
    },
    {
      "cell_type": "code",
      "metadata": {
        "colab": {
          "base_uri": "https://localhost:8080/"
        },
        "id": "oCbtli-4MHPi",
        "collapsed": true,
        "outputId": "4e54a19b-0a90-4a02-fd22-5e77eb9b4a2e"
      },
      "source": [
        "pip install torchvision "
      ],
      "execution_count": null,
      "outputs": [
        {
          "output_type": "stream",
          "name": "stdout",
          "text": [
            "Requirement already satisfied: torchvision in /usr/local/lib/python3.7/dist-packages (0.10.0+cu111)\n",
            "Requirement already satisfied: pillow>=5.3.0 in /usr/local/lib/python3.7/dist-packages (from torchvision) (7.1.2)\n",
            "Requirement already satisfied: torch==1.9.0 in /usr/local/lib/python3.7/dist-packages (from torchvision) (1.9.0+cu111)\n",
            "Requirement already satisfied: numpy in /usr/local/lib/python3.7/dist-packages (from torchvision) (1.19.5)\n",
            "Requirement already satisfied: typing-extensions in /usr/local/lib/python3.7/dist-packages (from torch==1.9.0->torchvision) (3.7.4.3)\n"
          ]
        }
      ]
    },
    {
      "cell_type": "markdown",
      "metadata": {
        "id": "5991j3jD30vX"
      },
      "source": [
        "# Importación de librerias"
      ]
    },
    {
      "cell_type": "code",
      "metadata": {
        "id": "9whHfcx5MH5d"
      },
      "source": [
        "import torch\n",
        "#import torchga\n",
        "import pygad"
      ],
      "execution_count": null,
      "outputs": []
    },
    {
      "cell_type": "code",
      "metadata": {
        "id": "z6w69Zdlhexv"
      },
      "source": [
        "#Librerias\n",
        "import cv2\n",
        "from google.colab.patches import cv2_imshow\n",
        "import numpy as np # linear algebra\n",
        "import pandas as pd # data processing, CSV file I/O (e.g. pd.read_csv)\n",
        "import seaborn as sns\n",
        "import matplotlib.pyplot as plt\n",
        "import shutil\n",
        "from sklearn.model_selection import train_test_split\n",
        "\n",
        "#Otras librerias necesarias de keras\n",
        "\n",
        "from keras.layers.convolutional import Conv2D, MaxPooling2D\n",
        "from keras.models import Sequential\n",
        "from keras.layers import Dense, Activation, Flatten\n",
        "#from tensorflow.python.keras.applications import ResNet50\n",
        "#from tensorflow.python.keras.models import Sequential\n",
        "#from tensorflow.python.keras.layers import Dense\n",
        "\n",
        "# Librerias para algoritmos geneticos\n",
        "import tensorflow.keras\n",
        "import pygad.kerasga\n",
        "import pygad\n",
        "import tensorflow as tf\n",
        "\n",
        "from keras.utils.vis_utils import plot_model"
      ],
      "execution_count": null,
      "outputs": []
    },
    {
      "cell_type": "markdown",
      "metadata": {
        "id": "cnrYb7WaI7Qc"
      },
      "source": [
        "#Carga de los datos"
      ]
    },
    {
      "cell_type": "markdown",
      "metadata": {
        "id": "RKAvuUfgX7jn"
      },
      "source": [
        "**ACCESO A GOOGLE DRIVE para Cargar Data**"
      ]
    },
    {
      "cell_type": "code",
      "metadata": {
        "colab": {
          "base_uri": "https://localhost:8080/"
        },
        "id": "_NDCoU3bYOIc",
        "outputId": "cd3a65a8-2987-4282-8baa-35a801f07e09"
      },
      "source": [
        "#Montar google drive\n",
        "from google.colab import drive\n",
        "drive.mount('/content/drive')\n",
        "\n",
        "% cd /content/drive/MyDrive/Colab Notebooks\n",
        "#Acá debemos cargar los archivos de imagenes y etiquetas en google drive\n",
        "\n",
        "#Cargar etiquetas\n",
        "lab=np.load('labels.npy')\n",
        "\n",
        "#Cargar imagenes\n",
        "img=np.load('Imagenes_gris_240.npy')"
      ],
      "execution_count": null,
      "outputs": [
        {
          "output_type": "stream",
          "name": "stdout",
          "text": [
            "Mounted at /content/drive\n",
            "/content/drive/MyDrive/Colab Notebooks\n"
          ]
        }
      ]
    },
    {
      "cell_type": "code",
      "metadata": {
        "id": "7PUXUEFXim0O",
        "colab": {
          "base_uri": "https://localhost:8080/",
          "height": 214
        },
        "outputId": "e5fd18ab-caaa-422c-f357-a9e0755ee757"
      },
      "source": [
        "nombre_gpu = tf.test.gpu_device_name()\n",
        "if nombre_gpu != '/device:GPU:0':\n",
        "  raise SystemError(\"GPU no encontrada\")\n",
        "print('GPU encontrada: {}'.format(nombre_gpu))"
      ],
      "execution_count": null,
      "outputs": [
        {
          "output_type": "error",
          "ename": "SystemError",
          "evalue": "ignored",
          "traceback": [
            "\u001b[0;31m---------------------------------------------------------------------------\u001b[0m",
            "\u001b[0;31mSystemError\u001b[0m                               Traceback (most recent call last)",
            "\u001b[0;32m<ipython-input-9-7b3c7341caff>\u001b[0m in \u001b[0;36m<module>\u001b[0;34m()\u001b[0m\n\u001b[1;32m      1\u001b[0m \u001b[0mnombre_gpu\u001b[0m \u001b[0;34m=\u001b[0m \u001b[0mtf\u001b[0m\u001b[0;34m.\u001b[0m\u001b[0mtest\u001b[0m\u001b[0;34m.\u001b[0m\u001b[0mgpu_device_name\u001b[0m\u001b[0;34m(\u001b[0m\u001b[0;34m)\u001b[0m\u001b[0;34m\u001b[0m\u001b[0;34m\u001b[0m\u001b[0m\n\u001b[1;32m      2\u001b[0m \u001b[0;32mif\u001b[0m \u001b[0mnombre_gpu\u001b[0m \u001b[0;34m!=\u001b[0m \u001b[0;34m'/device:GPU:0'\u001b[0m\u001b[0;34m:\u001b[0m\u001b[0;34m\u001b[0m\u001b[0;34m\u001b[0m\u001b[0m\n\u001b[0;32m----> 3\u001b[0;31m   \u001b[0;32mraise\u001b[0m \u001b[0mSystemError\u001b[0m\u001b[0;34m(\u001b[0m\u001b[0;34m\"GPU no encontrada\"\u001b[0m\u001b[0;34m)\u001b[0m\u001b[0;34m\u001b[0m\u001b[0;34m\u001b[0m\u001b[0m\n\u001b[0m\u001b[1;32m      4\u001b[0m \u001b[0mprint\u001b[0m\u001b[0;34m(\u001b[0m\u001b[0;34m'GPU encontrada: {}'\u001b[0m\u001b[0;34m.\u001b[0m\u001b[0mformat\u001b[0m\u001b[0;34m(\u001b[0m\u001b[0mnombre_gpu\u001b[0m\u001b[0;34m)\u001b[0m\u001b[0;34m)\u001b[0m\u001b[0;34m\u001b[0m\u001b[0;34m\u001b[0m\u001b[0m\n",
            "\u001b[0;31mSystemError\u001b[0m: GPU no encontrada"
          ]
        }
      ]
    },
    {
      "cell_type": "markdown",
      "metadata": {
        "id": "_ymRbQ2t37Cc"
      },
      "source": [
        "Aqui validamos la usabilidad del GPU en el entorno"
      ]
    },
    {
      "cell_type": "code",
      "metadata": {
        "id": "l6lZ3TlMuvCT"
      },
      "source": [
        "img.shape"
      ],
      "execution_count": null,
      "outputs": []
    },
    {
      "cell_type": "code",
      "metadata": {
        "colab": {
          "base_uri": "https://localhost:8080/"
        },
        "id": "fXAuC9eirsXP",
        "outputId": "cea2aa9f-22dc-450d-a39f-b4c8f9194aa4"
      },
      "source": [
        "lab.shape"
      ],
      "execution_count": null,
      "outputs": [
        {
          "output_type": "execute_result",
          "data": {
            "text/plain": [
              "(2000, 1)"
            ]
          },
          "metadata": {},
          "execution_count": 11
        }
      ]
    },
    {
      "cell_type": "markdown",
      "metadata": {
        "id": "74gi_NkvI3ab"
      },
      "source": [
        "# Entendimiento de los datos"
      ]
    },
    {
      "cell_type": "code",
      "metadata": {
        "colab": {
          "base_uri": "https://localhost:8080/",
          "height": 281
        },
        "id": "8K0FpjhWI_kw",
        "outputId": "40089c4c-7fd7-46c0-db8e-2c50ffe63b50"
      },
      "source": [
        "label=pd.DataFrame(lab)\n",
        "label\n",
        "label.hist(bins=30);"
      ],
      "execution_count": null,
      "outputs": [
        {
          "output_type": "display_data",
          "data": {
            "image/png": "[encoded data removed]",
            "text/plain": [
              "<Figure size 432x288 with 1 Axes>"
            ]
          },
          "metadata": {
            "needs_background": "light"
          }
        }
      ]
    },
    {
      "cell_type": "markdown",
      "metadata": {
        "id": "VtXyFztwJj8Q"
      },
      "source": [
        "Podemos ver que la distribución de los conteos de objetos tienen una similitud a una normal, a continuación vemos los parametros de esta"
      ]
    },
    {
      "cell_type": "code",
      "metadata": {
        "colab": {
          "base_uri": "https://localhost:8080/",
          "height": 297
        },
        "id": "rdfYuFQoJsoN",
        "outputId": "43833739-d559-4575-ad1f-c3a88648dea2"
      },
      "source": [
        "label.describe()"
      ],
      "execution_count": null,
      "outputs": [
        {
          "output_type": "execute_result",
          "data": {
            "text/html": [
              "<div>\n",
              "<style scoped>\n",
              "    .dataframe tbody tr th:only-of-type {\n",
              "        vertical-align: middle;\n",
              "    }\n",
              "\n",
              "    .dataframe tbody tr th {\n",
              "        vertical-align: top;\n",
              "    }\n",
              "\n",
              "    .dataframe thead th {\n",
              "        text-align: right;\n",
              "    }\n",
              "</style>\n",
              "<table border=\"1\" class=\"dataframe\">\n",
              "  <thead>\n",
              "    <tr style=\"text-align: right;\">\n",
              "      <th></th>\n",
              "      <th>0</th>\n",
              "    </tr>\n",
              "  </thead>\n",
              "  <tbody>\n",
              "    <tr>\n",
              "      <th>count</th>\n",
              "      <td>2000.000000</td>\n",
              "    </tr>\n",
              "    <tr>\n",
              "      <th>mean</th>\n",
              "      <td>31.157500</td>\n",
              "    </tr>\n",
              "    <tr>\n",
              "      <th>std</th>\n",
              "      <td>6.945417</td>\n",
              "    </tr>\n",
              "    <tr>\n",
              "      <th>min</th>\n",
              "      <td>13.000000</td>\n",
              "    </tr>\n",
              "    <tr>\n",
              "      <th>25%</th>\n",
              "      <td>26.000000</td>\n",
              "    </tr>\n",
              "    <tr>\n",
              "      <th>50%</th>\n",
              "      <td>31.000000</td>\n",
              "    </tr>\n",
              "    <tr>\n",
              "      <th>75%</th>\n",
              "      <td>36.000000</td>\n",
              "    </tr>\n",
              "    <tr>\n",
              "      <th>max</th>\n",
              "      <td>53.000000</td>\n",
              "    </tr>\n",
              "  </tbody>\n",
              "</table>\n",
              "</div>"
            ],
            "text/plain": [
              "                 0\n",
              "count  2000.000000\n",
              "mean     31.157500\n",
              "std       6.945417\n",
              "min      13.000000\n",
              "25%      26.000000\n",
              "50%      31.000000\n",
              "75%      36.000000\n",
              "max      53.000000"
            ]
          },
          "metadata": {},
          "execution_count": 13
        }
      ]
    },
    {
      "cell_type": "markdown",
      "metadata": {
        "id": "_t1Zul9tJxKt"
      },
      "source": [
        "La media y la mediana son cercanas por lo que se puede esperar que los datos se distribuyan de manera normal con media de 30 personas por imagen."
      ]
    },
    {
      "cell_type": "markdown",
      "metadata": {
        "id": "TUobZH6O0yMe"
      },
      "source": [
        "**Ver una imagen**"
      ]
    },
    {
      "cell_type": "code",
      "metadata": {
        "colab": {
          "base_uri": "https://localhost:8080/",
          "height": 257
        },
        "id": "Esh3O7dHZXBK",
        "outputId": "b90ec68c-df69-4cc7-8e7e-799ae92977fa"
      },
      "source": [
        "img_gris = cv2.resize(img[1390], (240,240))\n",
        "cv2_imshow(img_gris)"
      ],
      "execution_count": null,
      "outputs": [
        {
          "output_type": "display_data",
          "data": {
            "image/png": "[encoded data removed]",
            "text/plain": [
              "<PIL.Image.Image image mode=L size=240x240 at 0x7F1FBD1FF2D0>"
            ]
          },
          "metadata": {}
        }
      ]
    },
    {
      "cell_type": "markdown",
      "metadata": {
        "id": "L2l-3jhF4G3L"
      },
      "source": [
        "Realizamos una pequeña visualización del dataset"
      ]
    },
    {
      "cell_type": "markdown",
      "metadata": {
        "id": "apHACEgs4Ry5"
      },
      "source": [
        "# Procesamiento de los datos"
      ]
    },
    {
      "cell_type": "markdown",
      "metadata": {
        "id": "H9a8QE0Y4gjS"
      },
      "source": [
        "Se separa en validación y prueba"
      ]
    },
    {
      "cell_type": "code",
      "metadata": {
        "colab": {
          "base_uri": "https://localhost:8080/"
        },
        "id": "WPCreQKRcFjb",
        "outputId": "7c8e54f9-7ca0-4c7e-af57-e9352464173d"
      },
      "source": [
        "x_train, x_test, y_train, y_test = train_test_split(img, lab, test_size=0.2)\n",
        "print(x_train.shape)\n",
        "print(x_test.shape)"
      ],
      "execution_count": null,
      "outputs": [
        {
          "output_type": "stream",
          "name": "stdout",
          "text": [
            "(1600, 240, 240)\n",
            "(400, 240, 240)\n"
          ]
        }
      ]
    },
    {
      "cell_type": "markdown",
      "metadata": {
        "id": "5EfuAxaa4jwt"
      },
      "source": [
        "Se aumenta una dimensión del objeto matricial"
      ]
    },
    {
      "cell_type": "code",
      "metadata": {
        "colab": {
          "base_uri": "https://localhost:8080/"
        },
        "id": "u8NFlGAtfWyV",
        "outputId": "652fa7f6-a789-47a6-ac3e-9005a7475322"
      },
      "source": [
        "train_X = x_train.reshape(-1, 240,240, 1)\n",
        "test_X = x_test.reshape(-1, 240,240, 1)\n",
        "train_X.shape, test_X.shape"
      ],
      "execution_count": null,
      "outputs": [
        {
          "output_type": "execute_result",
          "data": {
            "text/plain": [
              "((1600, 240, 240, 1), (400, 240, 240, 1))"
            ]
          },
          "metadata": {},
          "execution_count": 16
        }
      ]
    },
    {
      "cell_type": "markdown",
      "metadata": {
        "id": "aDG0SyrY4nzx"
      },
      "source": [
        "Se normalizan los pixeles para poder mejorar el proceso de optimización"
      ]
    },
    {
      "cell_type": "code",
      "metadata": {
        "id": "hRJ54GLYf_Ir"
      },
      "source": [
        "train_X = train_X.astype('float32')\n",
        "test_X = test_X.astype('float32')\n",
        "train_X = train_X / 255.\n",
        "test_X = test_X / 255."
      ],
      "execution_count": null,
      "outputs": []
    },
    {
      "cell_type": "markdown",
      "metadata": {
        "id": "4NII9fXH4vnE"
      },
      "source": [
        "# Contrucción del modelo"
      ]
    },
    {
      "cell_type": "markdown",
      "metadata": {
        "id": "Shz3uSAT4WAA"
      },
      "source": [
        "# Protocolo experimental: Cuadro Latino\n"
      ]
    },
    {
      "cell_type": "markdown",
      "metadata": {
        "id": "2pGrcc0x6pvs"
      },
      "source": [
        "Aqui se proceden a realizar las diferentes arquitecturas expuestas en el documento entregable, para determiner cual es la mejor configuración de red"
      ]
    },
    {
      "cell_type": "code",
      "metadata": {
        "colab": {
          "base_uri": "https://localhost:8080/"
        },
        "id": "S-zr3aa14eIq",
        "outputId": "e20ecc74-1136-4b8a-af40-92ca96e447e1"
      },
      "source": [
        "# Build the keras model using the functional API.\n",
        "# https://pygad.readthedocs.io/en/latest/README_pygad_ReadTheDocs.html#pygad-ga-class\n",
        "\n",
        "input_layer = tensorflow.keras.layers.Input(shape=(240, 240, 1))\n",
        "conv_layer1 = tensorflow.keras.layers.Conv2D(filters=32,\n",
        "                                             kernel_size=3,\n",
        "                                             activation=\"relu\")(input_layer)\n",
        "max_pool1 = tensorflow.keras.layers.MaxPooling2D(pool_size=(2,2),\n",
        "                                                 strides=3)(conv_layer1)\n",
        "conv_layer2 = tensorflow.keras.layers.Conv2D(filters=16,\n",
        "                                             kernel_size=3,\n",
        "                                             activation=\"relu\")(max_pool1)\n",
        "\n",
        "max_pool11 = tensorflow.keras.layers.MaxPooling2D(pool_size=(2,2),\n",
        "                                                 strides=3)(conv_layer2)\n",
        "conv_layer22 = tensorflow.keras.layers.Conv2D(filters=8,\n",
        "                                             kernel_size=3,\n",
        "                                             activation=\"relu\")(max_pool11)\n",
        "\n",
        "flatten_layer  = tensorflow.keras.layers.Flatten()(conv_layer22)\n",
        "dense_layer = tensorflow.keras.layers.Dense(8, activation=\"relu\")(flatten_layer)\n",
        "output_layer = tensorflow.keras.layers.Dense(8, activation=\"linear\")(dense_layer)\n",
        "\n",
        "model = tensorflow.keras.Model(inputs=input_layer, outputs=output_layer)\n",
        "model.summary()"
      ],
      "execution_count": null,
      "outputs": [
        {
          "output_type": "stream",
          "name": "stdout",
          "text": [
            "Model: \"model\"\n",
            "_________________________________________________________________\n",
            "Layer (type)                 Output Shape              Param #   \n",
            "=================================================================\n",
            "input_1 (InputLayer)         [(None, 240, 240, 1)]     0         \n",
            "_________________________________________________________________\n",
            "conv2d (Conv2D)              (None, 238, 238, 32)      320       \n",
            "_________________________________________________________________\n",
            "max_pooling2d (MaxPooling2D) (None, 79, 79, 32)        0         \n",
            "_________________________________________________________________\n",
            "conv2d_1 (Conv2D)            (None, 77, 77, 16)        4624      \n",
            "_________________________________________________________________\n",
            "max_pooling2d_1 (MaxPooling2 (None, 26, 26, 16)        0         \n",
            "_________________________________________________________________\n",
            "conv2d_2 (Conv2D)            (None, 24, 24, 8)         1160      \n",
            "_________________________________________________________________\n",
            "flatten (Flatten)            (None, 4608)              0         \n",
            "_________________________________________________________________\n",
            "dense (Dense)                (None, 8)                 36872     \n",
            "_________________________________________________________________\n",
            "dense_1 (Dense)              (None, 8)                 72        \n",
            "=================================================================\n",
            "Total params: 43,048\n",
            "Trainable params: 43,048\n",
            "Non-trainable params: 0\n",
            "_________________________________________________________________\n"
          ]
        }
      ]
    },
    {
      "cell_type": "code",
      "metadata": {
        "colab": {
          "base_uri": "https://localhost:8080/",
          "height": 976
        },
        "id": "TI0Q1lT6cLwd",
        "outputId": "d74e7753-3ae0-422e-cd6d-d1482cecb550"
      },
      "source": [
        "plot_model(model, to_file='model_plot.png', show_shapes=True, show_layer_names=True)"
      ],
      "execution_count": null,
      "outputs": [
        {
          "output_type": "execute_result",
          "data": {
            "image/png": "[encoded data removed]",
            "text/plain": [
              "<IPython.core.display.Image object>"
            ]
          },
          "metadata": {},
          "execution_count": 19
        }
      ]
    },
    {
      "cell_type": "markdown",
      "metadata": {
        "id": "v1jqZ7P2NzNk"
      },
      "source": [
        "# Implementación del entrenamiento del AG"
      ]
    },
    {
      "cell_type": "code",
      "metadata": {
        "id": "CfbdbII8FApJ"
      },
      "source": [
        "import pygad.kerasga\n",
        "keras_ga = pygad.kerasga.KerasGA(model=model,\n",
        "                                 num_solutions=5)\n",
        "\n",
        "def fitness_func(solution, sol_idx):\n",
        "    global data_inputs, data_outputs, keras_ga, model\n",
        "    model_weights_matrix = pygad.kerasga.model_weights_as_matrix(model=model,\n",
        "                                                                 weights_vector=solution)\n",
        "    model.set_weights(weights=model_weights_matrix)\n",
        "    predictions = model.predict(data_inputs)\n",
        "\n",
        "    mae = tensorflow.keras.losses.MeanAbsoluteError()\n",
        "    abs_error = mae(data_outputs, predictions).numpy() + 0.00000001\n",
        "    solution_fitness = 1.0 / abs_error\n",
        "\n",
        "    print(solution_fitness, abs_error)\n",
        "    return solution_fitness\n",
        "\n",
        "def callback_generation(ga_instance):\n",
        "    print(\"Generation = {generation}\".format(generation=ga_instance.generations_completed))\n",
        "    print(\"Fitness    = {fitness}\".format(fitness=ga_instance.best_solution()[1]))"
      ],
      "execution_count": null,
      "outputs": []
    },
    {
      "cell_type": "code",
      "metadata": {
        "id": "OJbxYUQjFPRB",
        "colab": {
          "base_uri": "https://localhost:8080/"
        },
        "outputId": "1571d45c-7b27-4f4e-ec94-a5fcbcd3c104"
      },
      "source": [
        "# Data inputs\n",
        "data_inputs = x_train\n",
        "\n",
        "# Data outputs\n",
        "data_outputs = y_train\n",
        "\n",
        "ga_instance = pygad.GA(num_generations=750, \n",
        "                       num_parents_mating=4, \n",
        "                       initial_population=keras_ga.population_weights,\n",
        "                       fitness_func=fitness_func,\n",
        "                       callback_generation=callback_generation,\n",
        "                       crossover_type=\"single_point\",\n",
        "                       mutation_type=\"random\",\n",
        "                       parent_selection_type = \"sss\",\n",
        "                       mutation_percent_genes=25)"
      ],
      "execution_count": null,
      "outputs": [
        {
          "output_type": "stream",
          "name": "stderr",
          "text": [
            "/usr/local/lib/python3.7/dist-packages/pygad/pygad.py:731: UserWarning: Starting from PyGAD 2.6.0, the callback_generation parameter is deprecated and will be removed in a later release of PyGAD. Please use the on_generation parameter instead.\n",
            "  if not self.suppress_warnings: warnings.warn(\"Starting from PyGAD 2.6.0, the callback_generation parameter is deprecated and will be removed in a later release of PyGAD. Please use the on_generation parameter instead.\")\n"
          ]
        }
      ]
    },
    {
      "cell_type": "code",
      "metadata": {
        "id": "yYKqv8c-FQX8",
        "colab": {
          "base_uri": "https://localhost:8080/"
        },
        "outputId": "70b5d31e-d0ec-443b-9d19-bc2c24f03f50"
      },
      "source": [
        "ga_instance.run()"
      ],
      "execution_count": null,
      "outputs": [
        {
          "output_type": "stream",
          "name": "stdout",
          "text": [
            "0.03867009587698286 25.85977555321289\n",
            "6.823848326322785e-06 146544.87500001\n",
            "5.536098476119386e-06 180632.62500001\n",
            "2.620511810523207e-05 38160.48437501\n",
            "9.748977537897819e-06 102574.85937501\n",
            "2.282982249009882e-05 43802.35546876\n",
            "Generation = 1\n",
            "2.282982249009882e-05 43802.35546876\n",
            "Fitness    = 0.03867009587698286\n",
            "0.0009703527158588243 1030.5531005959374\n",
            "Generation = 2\n",
            "0.0009703527158588243 1030.5531005959374\n",
            "Fitness    = 0.03867009587698286\n",
            "2.6511826552995706e-05 37719.01562501\n",
            "Generation = 3\n",
            "2.6511826552995706e-05 37719.01562501\n",
            "Fitness    = 0.03867009587698286\n",
            "2.2520620443088136e-05 44403.75000001\n",
            "Generation = 4\n",
            "2.2520620443088136e-05 44403.75000001\n",
            "Fitness    = 0.03867009587698286\n"
          ]
        }
      ]
    },
    {
      "cell_type": "code",
      "metadata": {
        "id": "oT8iwCupFAZF"
      },
      "source": [
        "# After the generations complete, some plots are showed that summarize how the outputs/fitness values evolve over generations.\n",
        "ga_instance.plot_result(title=\"PyGAD & Keras - Iteration vs. Fitness\", linewidth=4)"
      ],
      "execution_count": null,
      "outputs": []
    },
    {
      "cell_type": "code",
      "metadata": {
        "id": "PjJ3j98_ScaY"
      },
      "source": [
        "# Returning the details of the best solution.\n",
        "solution, solution_fitness, solution_idx = ga_instance.best_solution()\n",
        "print(\"Fitness value of the best solution = {solution_fitness}\".format(solution_fitness=solution_fitness))\n",
        "print(\"Index of the best solution : {solution_idx}\".format(solution_idx=solution_idx))"
      ],
      "execution_count": null,
      "outputs": []
    },
    {
      "cell_type": "code",
      "metadata": {
        "id": "TVitB2AjFcLt"
      },
      "source": [
        "# Fetch the parameters of the best solution.\n",
        "best_solution_weights = pygad.kerasga.model_weights_as_matrix(model=model,\n",
        "                                                              weights_vector=solution)"
      ],
      "execution_count": null,
      "outputs": []
    },
    {
      "cell_type": "code",
      "metadata": {
        "id": "rTUYmf59Fb-d"
      },
      "source": [
        "#### MAE con datos de entrenamiento\n",
        "model.set_weights(best_solution_weights)\n",
        "predictions = model.predict(data_inputs)\n",
        "print(\"Predictions : \\n\", predictions)\n",
        "\n",
        "mae = tensorflow.keras.losses.MeanAbsoluteError()\n",
        "abs_error = mae(data_outputs, predictions).numpy()\n",
        "print(\"Absolute Error : \", abs_error)"
      ],
      "execution_count": null,
      "outputs": []
    },
    {
      "cell_type": "code",
      "metadata": {
        "id": "5CZDmPs_FjqY"
      },
      "source": [
        "#### MAE con datos de prueba\n",
        "test_X = x_test.reshape(-1, 240,240, 1)\n",
        "model.set_weights(best_solution_weights)\n",
        "predictions = model.predict(test_X)\n",
        "print(\"Predictions : \\n\", predictions)\n",
        "\n",
        "mae = tensorflow.keras.losses.MeanAbsoluteError()\n",
        "abs_error = mae(y_test, predictions).numpy()\n",
        "print(\"Absolute Error : \", abs_error)"
      ],
      "execution_count": null,
      "outputs": []
    },
    {
      "cell_type": "code",
      "metadata": {
        "id": "zRUIHM_5FtlW"
      },
      "source": [
        ""
      ],
      "execution_count": null,
      "outputs": []
    },
    {
      "cell_type": "code",
      "metadata": {
        "id": "PQDYkr6pFzyK"
      },
      "source": [
        ""
      ],
      "execution_count": null,
      "outputs": []
    },
    {
      "cell_type": "code",
      "metadata": {
        "id": "n8BF6Y6LFjlj"
      },
      "source": [
        ""
      ],
      "execution_count": null,
      "outputs": []
    }
  ]
}